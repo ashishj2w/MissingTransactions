{
 "cells": [
  {
   "cell_type": "markdown",
   "metadata": {},
   "source": [
    "## Find the Missing store sales transactions"
   ]
  },
  {
   "cell_type": "markdown",
   "metadata": {},
   "source": [
    "### Problem Statement\n",
    "Nielsen receives transaction level scanning data (POS Data) from its partner stores on a regular basis. Stores sharing POS data include bigger format store types such as supermarkets, hypermarkets as well as smaller traditional trade grocery stores (Kirana stores), medical stores etc. using a POS machine.\n",
    "\n",
    "While in a bigger format store, all items for all transactions are scanned using a POS machine, smaller and more localized shops do not have a 100% compliance rate in terms of scanning and inputting information into the POS machine for all transactions.\n",
    "\n",
    "A transaction involving a single packet of chips or a single piece of candy may not be scanned and recorded to spare customer the inconvenience or during rush hours when the store is crowded with customers.\n",
    "\n",
    "Thus, the data received from such stores is often incomplete and lacks complete information of all transactions completed within a day.\n",
    "\n",
    "Additionally, apart from incomplete transaction data in a day, it is observed that certain stores do not share data for all active days. Stores share data ranging from 2 to 28 days in a month. While it is possible to impute/extrapolate data for 2 days of a month using 28 days of actual historical data, the vice versa is not recommended.\n",
    "\n",
    "Nielsen encourages you to create a model which can help impute/extrapolate data to fill in the missing data gaps in the store level POS data currently received."
   ]
  },
  {
   "cell_type": "code",
   "execution_count": 1,
   "metadata": {},
   "outputs": [],
   "source": [
    "import numpy as np\n",
    "import pandas as pd\n",
    "import seaborn as sns\n",
    "from matplotlib import pyplot as plt\n",
    "%matplotlib inline\n",
    "\n",
    "from sklearn.experimental import enable_iterative_imputer\n",
    "from sklearn.impute import  IterativeImputer\n",
    "from sklearn.preprocessing import LabelEncoder"
   ]
  },
  {
   "cell_type": "markdown",
   "metadata": {},
   "source": [
    "Import data from csv files"
   ]
  },
  {
   "cell_type": "code",
   "execution_count": 2,
   "metadata": {},
   "outputs": [],
   "source": [
    "df_working_data = pd.read_csv(\"Hackathon_Working_Data.csv\")"
   ]
  },
  {
   "cell_type": "code",
   "execution_count": 3,
   "metadata": {},
   "outputs": [
    {
     "data": {
      "text/html": [
       "<div>\n",
       "<style scoped>\n",
       "    .dataframe tbody tr th:only-of-type {\n",
       "        vertical-align: middle;\n",
       "    }\n",
       "\n",
       "    .dataframe tbody tr th {\n",
       "        vertical-align: top;\n",
       "    }\n",
       "\n",
       "    .dataframe thead th {\n",
       "        text-align: right;\n",
       "    }\n",
       "</style>\n",
       "<table border=\"1\" class=\"dataframe\">\n",
       "  <thead>\n",
       "    <tr style=\"text-align: right;\">\n",
       "      <th></th>\n",
       "      <th>MONTH</th>\n",
       "      <th>STORECODE</th>\n",
       "      <th>DAY</th>\n",
       "      <th>BILL_ID</th>\n",
       "      <th>BILL_AMT</th>\n",
       "      <th>QTY</th>\n",
       "      <th>VALUE</th>\n",
       "      <th>PRICE</th>\n",
       "      <th>GRP</th>\n",
       "      <th>SGRP</th>\n",
       "      <th>SSGRP</th>\n",
       "      <th>CMP</th>\n",
       "      <th>MBRD</th>\n",
       "      <th>BRD</th>\n",
       "    </tr>\n",
       "  </thead>\n",
       "  <tbody>\n",
       "    <tr>\n",
       "      <th>0</th>\n",
       "      <td>M1</td>\n",
       "      <td>N1</td>\n",
       "      <td>4</td>\n",
       "      <td>T375</td>\n",
       "      <td>225.0</td>\n",
       "      <td>1.0</td>\n",
       "      <td>225.0</td>\n",
       "      <td>225.0</td>\n",
       "      <td>BUTTER MARGR  (4/94)</td>\n",
       "      <td>BUTTER</td>\n",
       "      <td>SALTED</td>\n",
       "      <td>G C M M F</td>\n",
       "      <td>AMUL</td>\n",
       "      <td>AMUL</td>\n",
       "    </tr>\n",
       "    <tr>\n",
       "      <th>1</th>\n",
       "      <td>M1</td>\n",
       "      <td>N1</td>\n",
       "      <td>4</td>\n",
       "      <td>T379</td>\n",
       "      <td>95.0</td>\n",
       "      <td>1.0</td>\n",
       "      <td>95.0</td>\n",
       "      <td>95.0</td>\n",
       "      <td>CONFECTIONERY - ECLAIRS</td>\n",
       "      <td>CONFECTIONERY - ECLAIRS</td>\n",
       "      <td>CONFECTIONERY - ECLAIRS</td>\n",
       "      <td>PARLE PRODS</td>\n",
       "      <td>MELODY</td>\n",
       "      <td>MELODY CHOCOLATY</td>\n",
       "    </tr>\n",
       "    <tr>\n",
       "      <th>2</th>\n",
       "      <td>M1</td>\n",
       "      <td>N1</td>\n",
       "      <td>4</td>\n",
       "      <td>T381</td>\n",
       "      <td>10.0</td>\n",
       "      <td>1.0</td>\n",
       "      <td>10.0</td>\n",
       "      <td>10.0</td>\n",
       "      <td>CHOCOLATE</td>\n",
       "      <td>CHOCOLATE PANNED</td>\n",
       "      <td>CHOCOLATE PANNED</td>\n",
       "      <td>MONDELEZ INTERNATIONAL</td>\n",
       "      <td>CADBURY SHOTS</td>\n",
       "      <td>CADBURY SHOTS</td>\n",
       "    </tr>\n",
       "    <tr>\n",
       "      <th>3</th>\n",
       "      <td>M1</td>\n",
       "      <td>N1</td>\n",
       "      <td>4</td>\n",
       "      <td>T382</td>\n",
       "      <td>108.0</td>\n",
       "      <td>1.0</td>\n",
       "      <td>108.0</td>\n",
       "      <td>108.0</td>\n",
       "      <td>PACKAGED TEA</td>\n",
       "      <td>MAIN PACKS</td>\n",
       "      <td>MAIN PACKS</td>\n",
       "      <td>GUJ TEA PROCESSORS</td>\n",
       "      <td>WAGH BAKRI</td>\n",
       "      <td>WAGH BAKRI INSTANT</td>\n",
       "    </tr>\n",
       "    <tr>\n",
       "      <th>4</th>\n",
       "      <td>M1</td>\n",
       "      <td>N1</td>\n",
       "      <td>4</td>\n",
       "      <td>T384</td>\n",
       "      <td>19.0</td>\n",
       "      <td>1.0</td>\n",
       "      <td>19.0</td>\n",
       "      <td>19.0</td>\n",
       "      <td>ALL IODISED SALT</td>\n",
       "      <td>POWDERED SALT</td>\n",
       "      <td>POWDERED SALT</td>\n",
       "      <td>TATA CHEM</td>\n",
       "      <td>TATA</td>\n",
       "      <td>TATA SALT</td>\n",
       "    </tr>\n",
       "  </tbody>\n",
       "</table>\n",
       "</div>"
      ],
      "text/plain": [
       "  MONTH STORECODE  DAY BILL_ID  BILL_AMT  QTY  VALUE  PRICE  \\\n",
       "0    M1        N1    4    T375     225.0  1.0  225.0  225.0   \n",
       "1    M1        N1    4    T379      95.0  1.0   95.0   95.0   \n",
       "2    M1        N1    4    T381      10.0  1.0   10.0   10.0   \n",
       "3    M1        N1    4    T382     108.0  1.0  108.0  108.0   \n",
       "4    M1        N1    4    T384      19.0  1.0   19.0   19.0   \n",
       "\n",
       "                       GRP                     SGRP                    SSGRP  \\\n",
       "0     BUTTER MARGR  (4/94)                   BUTTER                   SALTED   \n",
       "1  CONFECTIONERY - ECLAIRS  CONFECTIONERY - ECLAIRS  CONFECTIONERY - ECLAIRS   \n",
       "2                CHOCOLATE         CHOCOLATE PANNED         CHOCOLATE PANNED   \n",
       "3             PACKAGED TEA               MAIN PACKS               MAIN PACKS   \n",
       "4         ALL IODISED SALT            POWDERED SALT            POWDERED SALT   \n",
       "\n",
       "                      CMP           MBRD                 BRD  \n",
       "0               G C M M F           AMUL                AMUL  \n",
       "1             PARLE PRODS         MELODY    MELODY CHOCOLATY  \n",
       "2  MONDELEZ INTERNATIONAL  CADBURY SHOTS       CADBURY SHOTS  \n",
       "3      GUJ TEA PROCESSORS     WAGH BAKRI  WAGH BAKRI INSTANT  \n",
       "4               TATA CHEM           TATA           TATA SALT  "
      ]
     },
     "execution_count": 3,
     "metadata": {},
     "output_type": "execute_result"
    }
   ],
   "source": [
    "df_working_data.head()"
   ]
  },
  {
   "cell_type": "code",
   "execution_count": 4,
   "metadata": {},
   "outputs": [
    {
     "data": {
      "text/plain": [
       "MONTH           3\n",
       "STORECODE      10\n",
       "DAY            31\n",
       "BILL_ID      6424\n",
       "BILL_AMT     1453\n",
       "QTY            45\n",
       "VALUE         640\n",
       "PRICE         492\n",
       "GRP            80\n",
       "SGRP          174\n",
       "SSGRP         232\n",
       "CMP           354\n",
       "MBRD          643\n",
       "BRD          1315\n",
       "dtype: int64"
      ]
     },
     "execution_count": 4,
     "metadata": {},
     "output_type": "execute_result"
    }
   ],
   "source": [
    "df_working_data.nunique()"
   ]
  },
  {
   "cell_type": "markdown",
   "metadata": {},
   "source": [
    "We have 3 months of Data for 10 different store's"
   ]
  },
  {
   "cell_type": "code",
   "execution_count": 5,
   "metadata": {},
   "outputs": [
    {
     "data": {
      "text/plain": [
       "(26985, 14)"
      ]
     },
     "execution_count": 5,
     "metadata": {},
     "output_type": "execute_result"
    }
   ],
   "source": [
    "df_working_data.shape"
   ]
  },
  {
   "cell_type": "markdown",
   "metadata": {},
   "source": [
    "Check for Null values"
   ]
  },
  {
   "cell_type": "code",
   "execution_count": 6,
   "metadata": {},
   "outputs": [
    {
     "data": {
      "text/plain": [
       "MONTH        0\n",
       "STORECODE    0\n",
       "DAY          0\n",
       "BILL_ID      0\n",
       "BILL_AMT     0\n",
       "QTY          0\n",
       "VALUE        0\n",
       "PRICE        0\n",
       "GRP          0\n",
       "SGRP         0\n",
       "SSGRP        0\n",
       "CMP          0\n",
       "MBRD         0\n",
       "BRD          0\n",
       "dtype: int64"
      ]
     },
     "execution_count": 6,
     "metadata": {},
     "output_type": "execute_result"
    }
   ],
   "source": [
    "df_working_data.isnull().sum()"
   ]
  },
  {
   "cell_type": "markdown",
   "metadata": {},
   "source": [
    "No Null values"
   ]
  },
  {
   "cell_type": "markdown",
   "metadata": {},
   "source": [
    "### Analysing Bill_ID column"
   ]
  },
  {
   "cell_type": "code",
   "execution_count": 7,
   "metadata": {},
   "outputs": [],
   "source": [
    "df_working_data_copy = df_working_data"
   ]
  },
  {
   "cell_type": "code",
   "execution_count": 8,
   "metadata": {},
   "outputs": [],
   "source": [
    "df_working_data[\"BILL_ID\"] = df_working_data[\"BILL_ID\"].replace({'T':''}, regex=True)"
   ]
  },
  {
   "cell_type": "code",
   "execution_count": 9,
   "metadata": {},
   "outputs": [
    {
     "data": {
      "text/html": [
       "<div>\n",
       "<style scoped>\n",
       "    .dataframe tbody tr th:only-of-type {\n",
       "        vertical-align: middle;\n",
       "    }\n",
       "\n",
       "    .dataframe tbody tr th {\n",
       "        vertical-align: top;\n",
       "    }\n",
       "\n",
       "    .dataframe thead th {\n",
       "        text-align: right;\n",
       "    }\n",
       "</style>\n",
       "<table border=\"1\" class=\"dataframe\">\n",
       "  <thead>\n",
       "    <tr style=\"text-align: right;\">\n",
       "      <th></th>\n",
       "      <th>MONTH</th>\n",
       "      <th>STORECODE</th>\n",
       "      <th>DAY</th>\n",
       "      <th>BILL_ID</th>\n",
       "      <th>BILL_AMT</th>\n",
       "      <th>QTY</th>\n",
       "      <th>VALUE</th>\n",
       "      <th>PRICE</th>\n",
       "      <th>GRP</th>\n",
       "      <th>SGRP</th>\n",
       "      <th>SSGRP</th>\n",
       "      <th>CMP</th>\n",
       "      <th>MBRD</th>\n",
       "      <th>BRD</th>\n",
       "    </tr>\n",
       "  </thead>\n",
       "  <tbody>\n",
       "    <tr>\n",
       "      <th>3661</th>\n",
       "      <td>M1</td>\n",
       "      <td>N4</td>\n",
       "      <td>1</td>\n",
       "      <td>1</td>\n",
       "      <td>331.5</td>\n",
       "      <td>1.0</td>\n",
       "      <td>68.0</td>\n",
       "      <td>68.0</td>\n",
       "      <td>RUBEFACIENT</td>\n",
       "      <td>RUBEFACIENT</td>\n",
       "      <td>RUBEFACIENT</td>\n",
       "      <td>GLAXO SMITHKLINE</td>\n",
       "      <td>IODEX</td>\n",
       "      <td>IODEX</td>\n",
       "    </tr>\n",
       "    <tr>\n",
       "      <th>3656</th>\n",
       "      <td>M1</td>\n",
       "      <td>N4</td>\n",
       "      <td>1</td>\n",
       "      <td>1</td>\n",
       "      <td>331.5</td>\n",
       "      <td>1.0</td>\n",
       "      <td>26.0</td>\n",
       "      <td>26.0</td>\n",
       "      <td>WASHING POWDERS/LIQUIDS</td>\n",
       "      <td>WASHING POWDERS/LIQUIDS</td>\n",
       "      <td>WASHING POWDERS/LIQUIDS</td>\n",
       "      <td>HINDUSTAN UNILEVER LIMITED</td>\n",
       "      <td>WHEEL</td>\n",
       "      <td>WHEEL GREEN</td>\n",
       "    </tr>\n",
       "    <tr>\n",
       "      <th>3655</th>\n",
       "      <td>M1</td>\n",
       "      <td>N4</td>\n",
       "      <td>1</td>\n",
       "      <td>1</td>\n",
       "      <td>331.5</td>\n",
       "      <td>1.0</td>\n",
       "      <td>104.0</td>\n",
       "      <td>104.0</td>\n",
       "      <td>TOILET SOAPS (04/00)</td>\n",
       "      <td>PREMIUM</td>\n",
       "      <td>PREMIUM</td>\n",
       "      <td>RECKITT BENCKISER</td>\n",
       "      <td>DETTOL</td>\n",
       "      <td>DETTOL COOL</td>\n",
       "    </tr>\n",
       "    <tr>\n",
       "      <th>3659</th>\n",
       "      <td>M1</td>\n",
       "      <td>N4</td>\n",
       "      <td>1</td>\n",
       "      <td>1</td>\n",
       "      <td>331.5</td>\n",
       "      <td>2.0</td>\n",
       "      <td>19.0</td>\n",
       "      <td>9.5</td>\n",
       "      <td>BISCUITS - CORE &amp; NON CORE</td>\n",
       "      <td>GLUCOSE</td>\n",
       "      <td>GLUCOSE</td>\n",
       "      <td>PARLE PRODS</td>\n",
       "      <td>PARLE-G</td>\n",
       "      <td>PARLE-G</td>\n",
       "    </tr>\n",
       "    <tr>\n",
       "      <th>3660</th>\n",
       "      <td>M1</td>\n",
       "      <td>N4</td>\n",
       "      <td>1</td>\n",
       "      <td>1</td>\n",
       "      <td>331.5</td>\n",
       "      <td>5.0</td>\n",
       "      <td>47.5</td>\n",
       "      <td>9.5</td>\n",
       "      <td>BISCUITS - CORE &amp; NON CORE</td>\n",
       "      <td>MARIE</td>\n",
       "      <td>MARIE</td>\n",
       "      <td>BRITANNIA INDS</td>\n",
       "      <td>MARIE GOLD</td>\n",
       "      <td>MARIE GOLD REGULAR</td>\n",
       "    </tr>\n",
       "  </tbody>\n",
       "</table>\n",
       "</div>"
      ],
      "text/plain": [
       "     MONTH STORECODE  DAY BILL_ID  BILL_AMT  QTY  VALUE  PRICE  \\\n",
       "3661    M1        N4    1       1     331.5  1.0   68.0   68.0   \n",
       "3656    M1        N4    1       1     331.5  1.0   26.0   26.0   \n",
       "3655    M1        N4    1       1     331.5  1.0  104.0  104.0   \n",
       "3659    M1        N4    1       1     331.5  2.0   19.0    9.5   \n",
       "3660    M1        N4    1       1     331.5  5.0   47.5    9.5   \n",
       "\n",
       "                             GRP                     SGRP  \\\n",
       "3661                 RUBEFACIENT              RUBEFACIENT   \n",
       "3656     WASHING POWDERS/LIQUIDS  WASHING POWDERS/LIQUIDS   \n",
       "3655        TOILET SOAPS (04/00)                  PREMIUM   \n",
       "3659  BISCUITS - CORE & NON CORE                  GLUCOSE   \n",
       "3660  BISCUITS - CORE & NON CORE                    MARIE   \n",
       "\n",
       "                        SSGRP                         CMP        MBRD  \\\n",
       "3661              RUBEFACIENT            GLAXO SMITHKLINE       IODEX   \n",
       "3656  WASHING POWDERS/LIQUIDS  HINDUSTAN UNILEVER LIMITED       WHEEL   \n",
       "3655                  PREMIUM           RECKITT BENCKISER      DETTOL   \n",
       "3659                  GLUCOSE                 PARLE PRODS     PARLE-G   \n",
       "3660                    MARIE              BRITANNIA INDS  MARIE GOLD   \n",
       "\n",
       "                     BRD  \n",
       "3661               IODEX  \n",
       "3656         WHEEL GREEN  \n",
       "3655         DETTOL COOL  \n",
       "3659             PARLE-G  \n",
       "3660  MARIE GOLD REGULAR  "
      ]
     },
     "execution_count": 9,
     "metadata": {},
     "output_type": "execute_result"
    }
   ],
   "source": [
    "df_working_data.sort_values(by='BILL_ID').head()"
   ]
  },
  {
   "cell_type": "markdown",
   "metadata": {},
   "source": [
    "Find the missing BILL_ID in the series"
   ]
  },
  {
   "cell_type": "code",
   "execution_count": 10,
   "metadata": {},
   "outputs": [
    {
     "data": {
      "text/plain": [
       "'999'"
      ]
     },
     "execution_count": 10,
     "metadata": {},
     "output_type": "execute_result"
    }
   ],
   "source": [
    "df_working_data['BILL_ID'].max()"
   ]
  },
  {
   "cell_type": "code",
   "execution_count": 11,
   "metadata": {},
   "outputs": [
    {
     "data": {
      "text/plain": [
       "'1'"
      ]
     },
     "execution_count": 11,
     "metadata": {},
     "output_type": "execute_result"
    }
   ],
   "source": [
    "df_working_data['BILL_ID'].min()"
   ]
  },
  {
   "cell_type": "code",
   "execution_count": 12,
   "metadata": {},
   "outputs": [],
   "source": [
    "missing_ids = [id for id in range(1,1000) if id not in df_working_data['BILL_ID']] "
   ]
  },
  {
   "cell_type": "code",
   "execution_count": 13,
   "metadata": {},
   "outputs": [
    {
     "data": {
      "text/plain": [
       "[]"
      ]
     },
     "execution_count": 13,
     "metadata": {},
     "output_type": "execute_result"
    }
   ],
   "source": [
    "missing_ids"
   ]
  },
  {
   "cell_type": "markdown",
   "metadata": {},
   "source": [
    "No missing ID's so we can get rid of the column 'BILL_ID'"
   ]
  },
  {
   "cell_type": "code",
   "execution_count": 14,
   "metadata": {},
   "outputs": [
    {
     "data": {
      "text/html": [
       "<div>\n",
       "<style scoped>\n",
       "    .dataframe tbody tr th:only-of-type {\n",
       "        vertical-align: middle;\n",
       "    }\n",
       "\n",
       "    .dataframe tbody tr th {\n",
       "        vertical-align: top;\n",
       "    }\n",
       "\n",
       "    .dataframe thead th {\n",
       "        text-align: right;\n",
       "    }\n",
       "</style>\n",
       "<table border=\"1\" class=\"dataframe\">\n",
       "  <thead>\n",
       "    <tr style=\"text-align: right;\">\n",
       "      <th></th>\n",
       "      <th>MONTH</th>\n",
       "      <th>STORECODE</th>\n",
       "      <th>DAY</th>\n",
       "      <th>BILL_ID</th>\n",
       "      <th>BILL_AMT</th>\n",
       "      <th>QTY</th>\n",
       "      <th>VALUE</th>\n",
       "      <th>PRICE</th>\n",
       "      <th>GRP</th>\n",
       "      <th>SGRP</th>\n",
       "      <th>SSGRP</th>\n",
       "      <th>CMP</th>\n",
       "      <th>MBRD</th>\n",
       "      <th>BRD</th>\n",
       "    </tr>\n",
       "  </thead>\n",
       "  <tbody>\n",
       "    <tr>\n",
       "      <th>0</th>\n",
       "      <td>M1</td>\n",
       "      <td>N1</td>\n",
       "      <td>4</td>\n",
       "      <td>375</td>\n",
       "      <td>225.0</td>\n",
       "      <td>1.0</td>\n",
       "      <td>225.0</td>\n",
       "      <td>225.0</td>\n",
       "      <td>BUTTER MARGR  (4/94)</td>\n",
       "      <td>BUTTER</td>\n",
       "      <td>SALTED</td>\n",
       "      <td>G C M M F</td>\n",
       "      <td>AMUL</td>\n",
       "      <td>AMUL</td>\n",
       "    </tr>\n",
       "    <tr>\n",
       "      <th>1</th>\n",
       "      <td>M1</td>\n",
       "      <td>N1</td>\n",
       "      <td>4</td>\n",
       "      <td>379</td>\n",
       "      <td>95.0</td>\n",
       "      <td>1.0</td>\n",
       "      <td>95.0</td>\n",
       "      <td>95.0</td>\n",
       "      <td>CONFECTIONERY - ECLAIRS</td>\n",
       "      <td>CONFECTIONERY - ECLAIRS</td>\n",
       "      <td>CONFECTIONERY - ECLAIRS</td>\n",
       "      <td>PARLE PRODS</td>\n",
       "      <td>MELODY</td>\n",
       "      <td>MELODY CHOCOLATY</td>\n",
       "    </tr>\n",
       "    <tr>\n",
       "      <th>2</th>\n",
       "      <td>M1</td>\n",
       "      <td>N1</td>\n",
       "      <td>4</td>\n",
       "      <td>381</td>\n",
       "      <td>10.0</td>\n",
       "      <td>1.0</td>\n",
       "      <td>10.0</td>\n",
       "      <td>10.0</td>\n",
       "      <td>CHOCOLATE</td>\n",
       "      <td>CHOCOLATE PANNED</td>\n",
       "      <td>CHOCOLATE PANNED</td>\n",
       "      <td>MONDELEZ INTERNATIONAL</td>\n",
       "      <td>CADBURY SHOTS</td>\n",
       "      <td>CADBURY SHOTS</td>\n",
       "    </tr>\n",
       "    <tr>\n",
       "      <th>3</th>\n",
       "      <td>M1</td>\n",
       "      <td>N1</td>\n",
       "      <td>4</td>\n",
       "      <td>382</td>\n",
       "      <td>108.0</td>\n",
       "      <td>1.0</td>\n",
       "      <td>108.0</td>\n",
       "      <td>108.0</td>\n",
       "      <td>PACKAGED TEA</td>\n",
       "      <td>MAIN PACKS</td>\n",
       "      <td>MAIN PACKS</td>\n",
       "      <td>GUJ TEA PROCESSORS</td>\n",
       "      <td>WAGH BAKRI</td>\n",
       "      <td>WAGH BAKRI INSTANT</td>\n",
       "    </tr>\n",
       "    <tr>\n",
       "      <th>4</th>\n",
       "      <td>M1</td>\n",
       "      <td>N1</td>\n",
       "      <td>4</td>\n",
       "      <td>384</td>\n",
       "      <td>19.0</td>\n",
       "      <td>1.0</td>\n",
       "      <td>19.0</td>\n",
       "      <td>19.0</td>\n",
       "      <td>ALL IODISED SALT</td>\n",
       "      <td>POWDERED SALT</td>\n",
       "      <td>POWDERED SALT</td>\n",
       "      <td>TATA CHEM</td>\n",
       "      <td>TATA</td>\n",
       "      <td>TATA SALT</td>\n",
       "    </tr>\n",
       "  </tbody>\n",
       "</table>\n",
       "</div>"
      ],
      "text/plain": [
       "  MONTH STORECODE  DAY BILL_ID  BILL_AMT  QTY  VALUE  PRICE  \\\n",
       "0    M1        N1    4     375     225.0  1.0  225.0  225.0   \n",
       "1    M1        N1    4     379      95.0  1.0   95.0   95.0   \n",
       "2    M1        N1    4     381      10.0  1.0   10.0   10.0   \n",
       "3    M1        N1    4     382     108.0  1.0  108.0  108.0   \n",
       "4    M1        N1    4     384      19.0  1.0   19.0   19.0   \n",
       "\n",
       "                       GRP                     SGRP                    SSGRP  \\\n",
       "0     BUTTER MARGR  (4/94)                   BUTTER                   SALTED   \n",
       "1  CONFECTIONERY - ECLAIRS  CONFECTIONERY - ECLAIRS  CONFECTIONERY - ECLAIRS   \n",
       "2                CHOCOLATE         CHOCOLATE PANNED         CHOCOLATE PANNED   \n",
       "3             PACKAGED TEA               MAIN PACKS               MAIN PACKS   \n",
       "4         ALL IODISED SALT            POWDERED SALT            POWDERED SALT   \n",
       "\n",
       "                      CMP           MBRD                 BRD  \n",
       "0               G C M M F           AMUL                AMUL  \n",
       "1             PARLE PRODS         MELODY    MELODY CHOCOLATY  \n",
       "2  MONDELEZ INTERNATIONAL  CADBURY SHOTS       CADBURY SHOTS  \n",
       "3      GUJ TEA PROCESSORS     WAGH BAKRI  WAGH BAKRI INSTANT  \n",
       "4               TATA CHEM           TATA           TATA SALT  "
      ]
     },
     "execution_count": 14,
     "metadata": {},
     "output_type": "execute_result"
    }
   ],
   "source": [
    "df_working_data.head()"
   ]
  },
  {
   "cell_type": "markdown",
   "metadata": {},
   "source": [
    "If we look closely we can see that Bill Amount is the total bill for a customer, as it has multiple entries in the table. <br> As we need the sales data at the GRP Level we can also drop the column. <br>\n",
    "However this can be used for different sales analyses, but we can skip it for the given problem statement."
   ]
  },
  {
   "cell_type": "code",
   "execution_count": 15,
   "metadata": {},
   "outputs": [
    {
     "data": {
      "text/html": [
       "<div>\n",
       "<style scoped>\n",
       "    .dataframe tbody tr th:only-of-type {\n",
       "        vertical-align: middle;\n",
       "    }\n",
       "\n",
       "    .dataframe tbody tr th {\n",
       "        vertical-align: top;\n",
       "    }\n",
       "\n",
       "    .dataframe thead th {\n",
       "        text-align: right;\n",
       "    }\n",
       "</style>\n",
       "<table border=\"1\" class=\"dataframe\">\n",
       "  <thead>\n",
       "    <tr style=\"text-align: right;\">\n",
       "      <th></th>\n",
       "      <th>MONTH</th>\n",
       "      <th>STORECODE</th>\n",
       "      <th>DAY</th>\n",
       "      <th>QTY</th>\n",
       "      <th>VALUE</th>\n",
       "      <th>PRICE</th>\n",
       "      <th>GRP</th>\n",
       "      <th>SGRP</th>\n",
       "      <th>SSGRP</th>\n",
       "      <th>CMP</th>\n",
       "      <th>MBRD</th>\n",
       "      <th>BRD</th>\n",
       "    </tr>\n",
       "  </thead>\n",
       "  <tbody>\n",
       "    <tr>\n",
       "      <th>0</th>\n",
       "      <td>M1</td>\n",
       "      <td>N1</td>\n",
       "      <td>4</td>\n",
       "      <td>1.0</td>\n",
       "      <td>225.0</td>\n",
       "      <td>225.0</td>\n",
       "      <td>BUTTER MARGR  (4/94)</td>\n",
       "      <td>BUTTER</td>\n",
       "      <td>SALTED</td>\n",
       "      <td>G C M M F</td>\n",
       "      <td>AMUL</td>\n",
       "      <td>AMUL</td>\n",
       "    </tr>\n",
       "    <tr>\n",
       "      <th>1</th>\n",
       "      <td>M1</td>\n",
       "      <td>N1</td>\n",
       "      <td>4</td>\n",
       "      <td>1.0</td>\n",
       "      <td>95.0</td>\n",
       "      <td>95.0</td>\n",
       "      <td>CONFECTIONERY - ECLAIRS</td>\n",
       "      <td>CONFECTIONERY - ECLAIRS</td>\n",
       "      <td>CONFECTIONERY - ECLAIRS</td>\n",
       "      <td>PARLE PRODS</td>\n",
       "      <td>MELODY</td>\n",
       "      <td>MELODY CHOCOLATY</td>\n",
       "    </tr>\n",
       "    <tr>\n",
       "      <th>2</th>\n",
       "      <td>M1</td>\n",
       "      <td>N1</td>\n",
       "      <td>4</td>\n",
       "      <td>1.0</td>\n",
       "      <td>10.0</td>\n",
       "      <td>10.0</td>\n",
       "      <td>CHOCOLATE</td>\n",
       "      <td>CHOCOLATE PANNED</td>\n",
       "      <td>CHOCOLATE PANNED</td>\n",
       "      <td>MONDELEZ INTERNATIONAL</td>\n",
       "      <td>CADBURY SHOTS</td>\n",
       "      <td>CADBURY SHOTS</td>\n",
       "    </tr>\n",
       "    <tr>\n",
       "      <th>3</th>\n",
       "      <td>M1</td>\n",
       "      <td>N1</td>\n",
       "      <td>4</td>\n",
       "      <td>1.0</td>\n",
       "      <td>108.0</td>\n",
       "      <td>108.0</td>\n",
       "      <td>PACKAGED TEA</td>\n",
       "      <td>MAIN PACKS</td>\n",
       "      <td>MAIN PACKS</td>\n",
       "      <td>GUJ TEA PROCESSORS</td>\n",
       "      <td>WAGH BAKRI</td>\n",
       "      <td>WAGH BAKRI INSTANT</td>\n",
       "    </tr>\n",
       "    <tr>\n",
       "      <th>4</th>\n",
       "      <td>M1</td>\n",
       "      <td>N1</td>\n",
       "      <td>4</td>\n",
       "      <td>1.0</td>\n",
       "      <td>19.0</td>\n",
       "      <td>19.0</td>\n",
       "      <td>ALL IODISED SALT</td>\n",
       "      <td>POWDERED SALT</td>\n",
       "      <td>POWDERED SALT</td>\n",
       "      <td>TATA CHEM</td>\n",
       "      <td>TATA</td>\n",
       "      <td>TATA SALT</td>\n",
       "    </tr>\n",
       "  </tbody>\n",
       "</table>\n",
       "</div>"
      ],
      "text/plain": [
       "  MONTH STORECODE  DAY  QTY  VALUE  PRICE                      GRP  \\\n",
       "0    M1        N1    4  1.0  225.0  225.0     BUTTER MARGR  (4/94)   \n",
       "1    M1        N1    4  1.0   95.0   95.0  CONFECTIONERY - ECLAIRS   \n",
       "2    M1        N1    4  1.0   10.0   10.0                CHOCOLATE   \n",
       "3    M1        N1    4  1.0  108.0  108.0             PACKAGED TEA   \n",
       "4    M1        N1    4  1.0   19.0   19.0         ALL IODISED SALT   \n",
       "\n",
       "                      SGRP                    SSGRP                     CMP  \\\n",
       "0                   BUTTER                   SALTED               G C M M F   \n",
       "1  CONFECTIONERY - ECLAIRS  CONFECTIONERY - ECLAIRS             PARLE PRODS   \n",
       "2         CHOCOLATE PANNED         CHOCOLATE PANNED  MONDELEZ INTERNATIONAL   \n",
       "3               MAIN PACKS               MAIN PACKS      GUJ TEA PROCESSORS   \n",
       "4            POWDERED SALT            POWDERED SALT               TATA CHEM   \n",
       "\n",
       "            MBRD                 BRD  \n",
       "0           AMUL                AMUL  \n",
       "1         MELODY    MELODY CHOCOLATY  \n",
       "2  CADBURY SHOTS       CADBURY SHOTS  \n",
       "3     WAGH BAKRI  WAGH BAKRI INSTANT  \n",
       "4           TATA           TATA SALT  "
      ]
     },
     "execution_count": 15,
     "metadata": {},
     "output_type": "execute_result"
    }
   ],
   "source": [
    "df_working_data.drop(['BILL_ID','BILL_AMT'], axis=1, inplace=True)\n",
    "df_working_data.head()"
   ]
  },
  {
   "cell_type": "code",
   "execution_count": 16,
   "metadata": {},
   "outputs": [],
   "source": [
    "df_working_data_copy = df_working_data"
   ]
  },
  {
   "cell_type": "markdown",
   "metadata": {},
   "source": [
    "## I. Extracting the details for missing record/days"
   ]
  },
  {
   "cell_type": "markdown",
   "metadata": {},
   "source": [
    "1. Get the list of Month's we have in working data"
   ]
  },
  {
   "cell_type": "code",
   "execution_count": 17,
   "metadata": {},
   "outputs": [
    {
     "data": {
      "text/plain": [
       "array(['M1', 'M2', 'M3'], dtype=object)"
      ]
     },
     "execution_count": 17,
     "metadata": {},
     "output_type": "execute_result"
    }
   ],
   "source": [
    "month_list = df_working_data['MONTH'].unique()\n",
    "month_list"
   ]
  },
  {
   "cell_type": "markdown",
   "metadata": {},
   "source": [
    "2. Get the list of Store Code we have in working data"
   ]
  },
  {
   "cell_type": "code",
   "execution_count": 18,
   "metadata": {},
   "outputs": [
    {
     "data": {
      "text/plain": [
       "array(['N1', 'N2', 'N3', 'N4', 'N5', 'N6', 'N7', 'N8', 'N9', 'N10'],\n",
       "      dtype=object)"
      ]
     },
     "execution_count": 18,
     "metadata": {},
     "output_type": "execute_result"
    }
   ],
   "source": [
    "store_list = df_working_data['STORECODE'].unique()\n",
    "store_list"
   ]
  },
  {
   "cell_type": "markdown",
   "metadata": {},
   "source": [
    "3. Get the list of missing days for each store for all 3 months"
   ]
  },
  {
   "cell_type": "code",
   "execution_count": 19,
   "metadata": {},
   "outputs": [
    {
     "name": "stdout",
     "output_type": "stream",
     "text": [
      "[[1, 2, 3, 18, 19, 22, 23, 24, 27], [8, 10, 14, 18, 19, 20, 21, 23, 26, 29], [1, 21, 22, 24], [7, 14, 19, 21, 23, 27, 28], [5, 10, 11, 12, 16, 18, 19, 20, 23, 25, 26], [2, 7, 8, 9, 11, 13, 16, 20, 23, 27, 29], [2, 6, 7, 8, 10, 22, 23, 26, 27], [1, 6, 8, 9, 14, 23, 26, 28], [2, 5, 7, 12, 14, 19, 22, 23, 25, 29], [12, 13, 15, 17, 18, 19, 20, 21, 22, 25, 27], [9, 15, 19, 20, 22, 26, 27], [6, 22], [1, 11, 16, 18, 19, 23, 25, 26, 27], [1, 7, 8, 14, 18, 22, 24, 26], [1, 4, 6, 21, 26, 27], [4, 5, 6, 7, 8, 9, 13, 16, 17, 18, 20, 25], [3, 11, 18, 20, 21, 23, 24, 26, 27], [3, 15, 16, 17, 18, 20, 25, 26], [6, 9, 10, 11, 14, 16, 22, 24], [1, 2, 14, 16], [1, 6, 7, 11, 14, 16, 17, 19, 22, 26], [4, 6, 9, 14, 16, 28, 29], [2, 3, 9, 11, 13, 16, 19, 23, 27], [10, 13, 15, 23, 25, 29], [1, 5, 10, 13, 15, 21, 24, 27], [7, 14, 15, 18, 22, 23, 25, 28, 29], [4, 8, 10, 13, 15, 16, 21, 22, 23, 24, 25, 26, 27, 28, 29], [4, 6, 23, 28], [1, 6, 9, 10, 12, 16, 22], [14, 16, 19, 21, 22]]\n"
     ]
    }
   ],
   "source": [
    "missing_date_list = []\n",
    "for store in store_list:\n",
    "    for month in month_list:\n",
    "        date_list = df_working_data.loc[(df_working_data['MONTH']== month) & (df_working_data['STORECODE']==store)]['DAY'].unique()\n",
    "        final_date_list = [i for i in range(1,30) if i not in date_list]\n",
    "        missing_date_list.append(final_date_list)\n",
    "print(missing_date_list)"
   ]
  },
  {
   "cell_type": "markdown",
   "metadata": {},
   "source": [
    "Now we have the dates for which records are missing for each Store and each Month"
   ]
  },
  {
   "cell_type": "markdown",
   "metadata": {},
   "source": [
    "Apart from the Data for the above dates, we have some more missing data, as stated in the problem statement. <br>\n",
    "i.e. A transaction involving a single packet of chips or a single piece of candy may not be scanned and recorded to spare customer the inconvenience or during rush hours when the store is crowded with customers."
   ]
  },
  {
   "cell_type": "markdown",
   "metadata": {},
   "source": [
    "## II. Find Busiest days by grouping everyday sales"
   ]
  },
  {
   "cell_type": "markdown",
   "metadata": {},
   "source": [
    "By finding the sales pattern we can get the days which would have rush hours and could have led to the missing record for smaller items"
   ]
  },
  {
   "cell_type": "markdown",
   "metadata": {},
   "source": [
    "#### Date wise Sale for each store(for all 3 months)"
   ]
  },
  {
   "cell_type": "code",
   "execution_count": 20,
   "metadata": {},
   "outputs": [
    {
     "data": {
      "image/png": "[encoded data removed]",
      "text/plain": [
       "<Figure size 1080x1440 with 30 Axes>"
      ]
     },
     "metadata": {
      "needs_background": "light"
     },
     "output_type": "display_data"
    }
   ],
   "source": [
    "f, axes = plt.subplots(10, 3, figsize=(15, 20), sharex=True, sharey=True)\n",
    "for i,store in enumerate(store_list):\n",
    "    for j,month in enumerate(month_list):\n",
    "        df_sample_1 = df_working_data.loc[(df_working_data['MONTH']== month) & (df_working_data['STORECODE']==store)]\n",
    "        df_sample_1.groupby('DAY').sum()['VALUE'].plot.bar(ax= axes[i,j])"
   ]
  },
  {
   "cell_type": "markdown",
   "metadata": {},
   "source": [
    "#### Number of records per day/No of different items sold per day"
   ]
  },
  {
   "cell_type": "markdown",
   "metadata": {},
   "source": [
    "Note: Considering groupby on Day, but can also consider groupby on the day and have a group based on unique bill id or consider the quantity"
   ]
  },
  {
   "cell_type": "code",
   "execution_count": 21,
   "metadata": {},
   "outputs": [
    {
     "data": {
      "image/png": "[encoded data removed]",
      "text/plain": [
       "<Figure size 1080x1440 with 30 Axes>"
      ]
     },
     "metadata": {
      "needs_background": "light"
     },
     "output_type": "display_data"
    }
   ],
   "source": [
    "f, axes = plt.subplots(10, 3, figsize=(15, 20), sharex=True, sharey=True)\n",
    "for i,store in enumerate(store_list):\n",
    "    for j,month in enumerate(month_list):\n",
    "        df_sample_1 = df_working_data.loc[(df_working_data['MONTH']== month) & (df_working_data['STORECODE']==store)]\n",
    "        df_sample_1.groupby('DAY').count()['MONTH'].plot.bar(ax= axes[i,j])"
   ]
  },
  {
   "cell_type": "markdown",
   "metadata": {},
   "source": [
    "#### List of the busiest day in the month"
   ]
  },
  {
   "cell_type": "markdown",
   "metadata": {},
   "source": [
    "Looking at the above graph, we see the number of transactions per day varies for all 10 stores but the Variance is less if we consider data of a particular  store in a given month.<br> \n",
    "We can consider a different cutoff value for each store. <br>\n",
    "We can either use a hardcoded value or we can calculate the days when the sale was 90% more than other days(for all 3 months)."
   ]
  },
  {
   "cell_type": "code",
   "execution_count": 22,
   "metadata": {},
   "outputs": [],
   "source": [
    "busiest_days = []\n",
    "for store in store_list:\n",
    "    for month in month_list:\n",
    "        df_new = df_working_data.loc[(df_working_data['MONTH']== month) &\n",
    "                                             (df_working_data['STORECODE']==store)].groupby('DAY').count()['MONTH']\n",
    "        final_date_list = [i for i in df_new.keys() if i in df_new.nlargest(3)]\n",
    "        busiest_days.append(final_date_list)\n",
    "        #print(df_new.nlargest(3"
   ]
  },
  {
   "cell_type": "code",
   "execution_count": 23,
   "metadata": {},
   "outputs": [
    {
     "data": {
      "text/plain": [
       "[[7, 8, 9],\n",
       " [6, 15, 27],\n",
       " [4, 11, 13],\n",
       " [1, 5, 22],\n",
       " [4, 27, 31],\n",
       " [3, 12, 25],\n",
       " [3, 9, 28],\n",
       " [15, 25, 29],\n",
       " [10, 11, 16],\n",
       " [4, 9, 10],\n",
       " [7, 13, 16],\n",
       " [2, 3, 18],\n",
       " [2, 14, 31],\n",
       " [2, 11, 29],\n",
       " [2, 3, 19],\n",
       " [11, 21, 31],\n",
       " [1, 8, 16],\n",
       " [2, 21, 31],\n",
       " [4, 15, 17],\n",
       " [4, 9, 30],\n",
       " [2, 9, 28],\n",
       " [1, 15, 20],\n",
       " [7, 10, 15],\n",
       " [8, 18, 26],\n",
       " [7, 14, 28],\n",
       " [8, 21, 27],\n",
       " [3, 9, 14],\n",
       " [1, 29, 30],\n",
       " [19, 25, 27],\n",
       " [2, 28, 29]]"
      ]
     },
     "execution_count": 23,
     "metadata": {},
     "output_type": "execute_result"
    }
   ],
   "source": [
    "busiest_days"
   ]
  },
  {
   "cell_type": "markdown",
   "metadata": {},
   "source": [
    "Now, we have the list of the top 10% busiest days"
   ]
  },
  {
   "cell_type": "markdown",
   "metadata": {},
   "source": [
    "## III. Calculating the number of entries needs to add for the missing days"
   ]
  },
  {
   "cell_type": "markdown",
   "metadata": {},
   "source": [
    "We can consider the <b>Mean</b> of \"number of transactions\" for the month at a particular store to get the number of new records that need to be added.<br>\n",
    "The same need's to be calculated for every shop every month."
   ]
  },
  {
   "cell_type": "code",
   "execution_count": 24,
   "metadata": {},
   "outputs": [],
   "source": [
    "mean_list = []\n",
    "for store in store_list:\n",
    "    for month in month_list:\n",
    "        mean_list.append(int(df_working_data.loc[(df_working_data['MONTH']== month) &\n",
    "                                             (df_working_data['STORECODE']==store)].groupby('DAY').count()['MONTH'].mean()))"
   ]
  },
  {
   "cell_type": "code",
   "execution_count": 25,
   "metadata": {
    "scrolled": true
   },
   "outputs": [
    {
     "data": {
      "text/plain": [
       "[115,\n",
       " 23,\n",
       " 64,\n",
       " 19,\n",
       " 17,\n",
       " 29,\n",
       " 37,\n",
       " 29,\n",
       " 17,\n",
       " 48,\n",
       " 40,\n",
       " 47,\n",
       " 29,\n",
       " 81,\n",
       " 83,\n",
       " 3,\n",
       " 12,\n",
       " 38,\n",
       " 82,\n",
       " 98,\n",
       " 63,\n",
       " 9,\n",
       " 18,\n",
       " 20,\n",
       " 32,\n",
       " 35,\n",
       " 6,\n",
       " 13,\n",
       " 47,\n",
       " 29]"
      ]
     },
     "execution_count": 25,
     "metadata": {},
     "output_type": "execute_result"
    }
   ],
   "source": [
    "mean_list"
   ]
  },
  {
   "cell_type": "markdown",
   "metadata": {},
   "source": [
    "Now, we have the number of rows that we need to create for missing dates"
   ]
  },
  {
   "cell_type": "markdown",
   "metadata": {},
   "source": [
    "### Possible Model Creation check"
   ]
  },
  {
   "cell_type": "markdown",
   "metadata": {},
   "source": [
    "We have \"MONTH\", \"STORECODE\", \"DAY\" for each of the new entry we want to create. We need to have a model to predict a product  based on column <b>\"BRD\"</b>\n",
    "<br> But if we use Mode imputation technique on Column \"BRD\", this will result to the same item every time, so we cannot use Mode.\n",
    "<br> If we try using a model(i.e. KNN) that will have the same problem as in case of Mode.\n",
    "\n",
    "A possible solution could be as:\n",
    "1. Get the number of rows we have to create for a specific date(i.e 100)\n",
    "2. We can then find 100 most sold items(i.e. BRD) for that month at a particular store.\n",
    "3. Fill the values based on those 100 selected rows.\n",
    "<br>This has a side effect that for all the days missing in a specific month will get the same entries."
   ]
  },
  {
   "cell_type": "markdown",
   "metadata": {},
   "source": [
    "### Data availability Check"
   ]
  },
  {
   "cell_type": "markdown",
   "metadata": {},
   "source": [
    "We have the following information:\n",
    "1. List of 'days' for which entries are missing for each store each month. (missing_date_list)\n",
    "2. Top 10% busiest days for every store for each month. (busiest_days)\n",
    "3. We have the Number of rows that we need to add for the missing days. (mean_list)\n",
    "4. No of records we need to add for 10% busiest days. - Pending"
   ]
  },
  {
   "cell_type": "markdown",
   "metadata": {},
   "source": [
    "## IV. Calculating the number of entries needed for Busy days"
   ]
  },
  {
   "cell_type": "markdown",
   "metadata": {},
   "source": [
    "1. Create Null rows for busy days"
   ]
  },
  {
   "cell_type": "code",
   "execution_count": 26,
   "metadata": {},
   "outputs": [
    {
     "data": {
      "text/plain": [
       "[[7, 8, 9],\n",
       " [6, 15, 27],\n",
       " [4, 11, 13],\n",
       " [1, 5, 22],\n",
       " [4, 27, 31],\n",
       " [3, 12, 25],\n",
       " [3, 9, 28],\n",
       " [15, 25, 29],\n",
       " [10, 11, 16],\n",
       " [4, 9, 10],\n",
       " [7, 13, 16],\n",
       " [2, 3, 18],\n",
       " [2, 14, 31],\n",
       " [2, 11, 29],\n",
       " [2, 3, 19],\n",
       " [11, 21, 31],\n",
       " [1, 8, 16],\n",
       " [2, 21, 31],\n",
       " [4, 15, 17],\n",
       " [4, 9, 30],\n",
       " [2, 9, 28],\n",
       " [1, 15, 20],\n",
       " [7, 10, 15],\n",
       " [8, 18, 26],\n",
       " [7, 14, 28],\n",
       " [8, 21, 27],\n",
       " [3, 9, 14],\n",
       " [1, 29, 30],\n",
       " [19, 25, 27],\n",
       " [2, 28, 29]]"
      ]
     },
     "execution_count": 26,
     "metadata": {},
     "output_type": "execute_result"
    }
   ],
   "source": [
    "# We have the list of busiest days\n",
    "busiest_days"
   ]
  },
  {
   "cell_type": "code",
   "execution_count": 27,
   "metadata": {},
   "outputs": [],
   "source": [
    "df_busy_rows = pd.DataFrame(columns=df_working_data.columns)"
   ]
  },
  {
   "cell_type": "code",
   "execution_count": 28,
   "metadata": {},
   "outputs": [],
   "source": [
    "def get_range(store, month, day):\n",
    "    count = df_working_data.loc[(df_working_data['MONTH']== month) &\n",
    "                            (df_working_data['STORECODE']== store) &\n",
    "                            (df_working_data['DAY']== day)].groupby('DAY').count()['MONTH'].get(day)\n",
    "    return count"
   ]
  },
  {
   "cell_type": "code",
   "execution_count": 29,
   "metadata": {},
   "outputs": [],
   "source": [
    "index = 0\n",
    "for store in store_list:\n",
    "    for month in month_list:\n",
    "        for day in busiest_days[index]:\n",
    "            new_record = {\"MONTH\":month, \"STORECODE\":store,\"DAY\":day,\"QTY\":np.nan,\n",
    "                       \"VALUE\":np.nan, \"PRICE\":np.nan, \"GRP\":np.nan, \"SGRP\":np.nan,\n",
    "                       \"SSGRP\":np.nan, \"CMP\":np.nan, \"MBRD\":np.nan, \"BRD\":np.nan}\n",
    "            count = int((get_range(store, month, day).item())/int(10))\n",
    "            for i in range(count):\n",
    "                df_busy_rows = df_busy_rows.append(new_record, ignore_index=True)\n",
    "        index = index +1"
   ]
  },
  {
   "cell_type": "code",
   "execution_count": 30,
   "metadata": {},
   "outputs": [
    {
     "data": {
      "text/html": [
       "<div>\n",
       "<style scoped>\n",
       "    .dataframe tbody tr th:only-of-type {\n",
       "        vertical-align: middle;\n",
       "    }\n",
       "\n",
       "    .dataframe tbody tr th {\n",
       "        vertical-align: top;\n",
       "    }\n",
       "\n",
       "    .dataframe thead th {\n",
       "        text-align: right;\n",
       "    }\n",
       "</style>\n",
       "<table border=\"1\" class=\"dataframe\">\n",
       "  <thead>\n",
       "    <tr style=\"text-align: right;\">\n",
       "      <th></th>\n",
       "      <th>MONTH</th>\n",
       "      <th>STORECODE</th>\n",
       "      <th>DAY</th>\n",
       "      <th>QTY</th>\n",
       "      <th>VALUE</th>\n",
       "      <th>PRICE</th>\n",
       "      <th>GRP</th>\n",
       "      <th>SGRP</th>\n",
       "      <th>SSGRP</th>\n",
       "      <th>CMP</th>\n",
       "      <th>MBRD</th>\n",
       "      <th>BRD</th>\n",
       "    </tr>\n",
       "  </thead>\n",
       "  <tbody>\n",
       "    <tr>\n",
       "      <th>0</th>\n",
       "      <td>M1</td>\n",
       "      <td>N1</td>\n",
       "      <td>7</td>\n",
       "      <td>NaN</td>\n",
       "      <td>NaN</td>\n",
       "      <td>NaN</td>\n",
       "      <td>NaN</td>\n",
       "      <td>NaN</td>\n",
       "      <td>NaN</td>\n",
       "      <td>NaN</td>\n",
       "      <td>NaN</td>\n",
       "      <td>NaN</td>\n",
       "    </tr>\n",
       "    <tr>\n",
       "      <th>1</th>\n",
       "      <td>M1</td>\n",
       "      <td>N1</td>\n",
       "      <td>7</td>\n",
       "      <td>NaN</td>\n",
       "      <td>NaN</td>\n",
       "      <td>NaN</td>\n",
       "      <td>NaN</td>\n",
       "      <td>NaN</td>\n",
       "      <td>NaN</td>\n",
       "      <td>NaN</td>\n",
       "      <td>NaN</td>\n",
       "      <td>NaN</td>\n",
       "    </tr>\n",
       "    <tr>\n",
       "      <th>2</th>\n",
       "      <td>M1</td>\n",
       "      <td>N1</td>\n",
       "      <td>7</td>\n",
       "      <td>NaN</td>\n",
       "      <td>NaN</td>\n",
       "      <td>NaN</td>\n",
       "      <td>NaN</td>\n",
       "      <td>NaN</td>\n",
       "      <td>NaN</td>\n",
       "      <td>NaN</td>\n",
       "      <td>NaN</td>\n",
       "      <td>NaN</td>\n",
       "    </tr>\n",
       "    <tr>\n",
       "      <th>3</th>\n",
       "      <td>M1</td>\n",
       "      <td>N1</td>\n",
       "      <td>7</td>\n",
       "      <td>NaN</td>\n",
       "      <td>NaN</td>\n",
       "      <td>NaN</td>\n",
       "      <td>NaN</td>\n",
       "      <td>NaN</td>\n",
       "      <td>NaN</td>\n",
       "      <td>NaN</td>\n",
       "      <td>NaN</td>\n",
       "      <td>NaN</td>\n",
       "    </tr>\n",
       "    <tr>\n",
       "      <th>4</th>\n",
       "      <td>M1</td>\n",
       "      <td>N1</td>\n",
       "      <td>7</td>\n",
       "      <td>NaN</td>\n",
       "      <td>NaN</td>\n",
       "      <td>NaN</td>\n",
       "      <td>NaN</td>\n",
       "      <td>NaN</td>\n",
       "      <td>NaN</td>\n",
       "      <td>NaN</td>\n",
       "      <td>NaN</td>\n",
       "      <td>NaN</td>\n",
       "    </tr>\n",
       "  </tbody>\n",
       "</table>\n",
       "</div>"
      ],
      "text/plain": [
       "  MONTH STORECODE DAY  QTY VALUE PRICE  GRP SGRP SSGRP  CMP MBRD  BRD\n",
       "0    M1        N1   7  NaN   NaN   NaN  NaN  NaN   NaN  NaN  NaN  NaN\n",
       "1    M1        N1   7  NaN   NaN   NaN  NaN  NaN   NaN  NaN  NaN  NaN\n",
       "2    M1        N1   7  NaN   NaN   NaN  NaN  NaN   NaN  NaN  NaN  NaN\n",
       "3    M1        N1   7  NaN   NaN   NaN  NaN  NaN   NaN  NaN  NaN  NaN\n",
       "4    M1        N1   7  NaN   NaN   NaN  NaN  NaN   NaN  NaN  NaN  NaN"
      ]
     },
     "execution_count": 30,
     "metadata": {},
     "output_type": "execute_result"
    }
   ],
   "source": [
    "df_busy_rows.head()"
   ]
  },
  {
   "cell_type": "code",
   "execution_count": 31,
   "metadata": {},
   "outputs": [
    {
     "data": {
      "text/plain": [
       "(518, 12)"
      ]
     },
     "execution_count": 31,
     "metadata": {},
     "output_type": "execute_result"
    }
   ],
   "source": [
    "df_busy_rows.shape"
   ]
  },
  {
   "cell_type": "markdown",
   "metadata": {},
   "source": [
    "Now we have the Dataframe ready for the missing data on busy days"
   ]
  },
  {
   "cell_type": "markdown",
   "metadata": {},
   "source": [
    "2. Get values for to fill df_busy_list"
   ]
  },
  {
   "cell_type": "markdown",
   "metadata": {},
   "source": [
    "We will fill with smaller products i.e chips and biscuits with quantity as 1."
   ]
  },
  {
   "cell_type": "code",
   "execution_count": 32,
   "metadata": {},
   "outputs": [
    {
     "data": {
      "text/plain": [
       "array(['BUTTER MARGR  (4/94)', 'CONFECTIONERY - ECLAIRS', 'CHOCOLATE',\n",
       "       'PACKAGED TEA', 'ALL IODISED SALT', 'READY TO EAT',\n",
       "       'SALTY SNACKS (2/97)', 'BISCUITS - CORE & NON CORE',\n",
       "       'SPICES (03/04)', 'PRE-POST WASH PRODUCTS', 'MILK POWDERS',\n",
       "       'SHAMPOO - BY SEGMENTS', 'VERMICELLI & NOODLE',\n",
       "       'CONFECTIONERY - TOFFEE/HBC', 'CLEANERS - FLOOR',\n",
       "       'DIAPERS       (8/93)', 'TOOTH PASTES', 'TOILET SOAPS (04/00)',\n",
       "       'WASHING POWDERS/LIQUIDS', 'DETERGENT CAKES/BARS', 'BEVERAGES',\n",
       "       'ANTACIDS', 'ALL AIR FRESHNERS(01/03)',\n",
       "       'REFINED EDIBLE OILS-ALL PACKS', 'CLEANERS - UTENSIL',\n",
       "       'CONFECTIONERY - LOLLIPOP/FMR', 'HOME INSECTICIDES CTG  (8/93)',\n",
       "       'PACKAGED ATTA (1/95)', 'BREAKFAST CEREALS',\n",
       "       'HAIR OILS PKTP(8/02)', 'KETCHUPS/SAUCES', 'CHEESE        (4/94)',\n",
       "       'COCONUT OIL PKTYP (08/02)', 'TOOTH BRUSH   (7/93)',\n",
       "       'VANASPATI CONS PACK (8/94)', 'AGARBATTI & DHOOPBATTI',\n",
       "       'SQSH CRDLS & SFT DRNK-CONVERTD', 'SKIN CREAMS',\n",
       "       'SCOURING PADS/SCRUBS', 'BATTERIES', 'PACKAGED PURE GHEE',\n",
       "       'CONFECTIONERY - TOTAL GUM', 'MOSQUITO REPELLANTS CTG (8/93)',\n",
       "       'HAIR DYES     (1/76)', 'JAMS/JELLY/MARMALADES-CTG',\n",
       "       'FRAGRANCE-PERFUM,DEO & COLOGNE', 'SOAP CAKES/BARS',\n",
       "       'NON-REFINED OILS   (9/93)', 'SANITARY NAPKINS',\n",
       "       'HAIR CONDITIONERS', 'ANTISEPTIC LIQUIDS (4/97)',\n",
       "       'PRICKLY HEAT POWDER', 'BLUES', 'GLUCOSE POWDER & TABLET',\n",
       "       'TWIN BLADES', 'LIQUID TOILET SOAPS  (8/93)', 'TALCUM POWDERS',\n",
       "       'CONFECTIONERY - COUGH LOZENGE', 'RUBEFACIENT', 'COFFEE',\n",
       "       'CLEANERS - TOILET', 'HAIR REMOVER', 'SHAVING PREPARATIONS',\n",
       "       'SUGAR SUBSTITUTE (11/05)', 'PACKAGED RICE (1/95)',\n",
       "       'TOOTH POWDERS', 'SHOE POLISHES', 'OTHER SCOURERS', 'CHYAVANPRASH',\n",
       "       'CLEANERS - GLASS', 'AFTER SHAVE LOTIONS', 'MILK FOODS', 'CONDOMS',\n",
       "       'BABY FOODS', 'PALMOLEIN REFINED OIL (01/03)',\n",
       "       'SAFETY RAZOR BLADES', 'OLIVE OILS', 'BABY OILS / MASSAGE OILS',\n",
       "       'DIGESTIVES', 'ANTISEPTIC CREAMS'], dtype=object)"
      ]
     },
     "execution_count": 32,
     "metadata": {},
     "output_type": "execute_result"
    }
   ],
   "source": [
    "df_working_data['GRP'].unique()"
   ]
  },
  {
   "cell_type": "markdown",
   "metadata": {},
   "source": [
    "In the above list we see \"CHOCOLATE\" and \"SALTY SNACKS (2/97)\", these are the items mostly sold without being scanned.<br>\n",
    "In order to get more precise, we can consider the Chocolate and snacks with less cost and the most popular does not get recorded."
   ]
  },
  {
   "cell_type": "markdown",
   "metadata": {},
   "source": [
    "We can use the Mode imputation technique to fill the newly added rows with a condition that GRP belongs to CHOCOLATE or SALTY SNACKS"
   ]
  },
  {
   "cell_type": "code",
   "execution_count": 33,
   "metadata": {},
   "outputs": [],
   "source": [
    "small_items = df_working_data.loc[(df_working_data['GRP'] == 'CHOCOLATE') | (df_working_data['GRP'] == 'SALTY SNACKS (2/97)')]"
   ]
  },
  {
   "cell_type": "code",
   "execution_count": 34,
   "metadata": {},
   "outputs": [
    {
     "data": {
      "text/html": [
       "<div>\n",
       "<style scoped>\n",
       "    .dataframe tbody tr th:only-of-type {\n",
       "        vertical-align: middle;\n",
       "    }\n",
       "\n",
       "    .dataframe tbody tr th {\n",
       "        vertical-align: top;\n",
       "    }\n",
       "\n",
       "    .dataframe thead th {\n",
       "        text-align: right;\n",
       "    }\n",
       "</style>\n",
       "<table border=\"1\" class=\"dataframe\">\n",
       "  <thead>\n",
       "    <tr style=\"text-align: right;\">\n",
       "      <th></th>\n",
       "      <th>MONTH</th>\n",
       "      <th>STORECODE</th>\n",
       "      <th>DAY</th>\n",
       "      <th>QTY</th>\n",
       "      <th>VALUE</th>\n",
       "      <th>PRICE</th>\n",
       "      <th>GRP</th>\n",
       "      <th>SGRP</th>\n",
       "      <th>SSGRP</th>\n",
       "      <th>CMP</th>\n",
       "      <th>MBRD</th>\n",
       "      <th>BRD</th>\n",
       "    </tr>\n",
       "  </thead>\n",
       "  <tbody>\n",
       "    <tr>\n",
       "      <th>2</th>\n",
       "      <td>M1</td>\n",
       "      <td>N1</td>\n",
       "      <td>4</td>\n",
       "      <td>1.0</td>\n",
       "      <td>10.0</td>\n",
       "      <td>10.0</td>\n",
       "      <td>CHOCOLATE</td>\n",
       "      <td>CHOCOLATE PANNED</td>\n",
       "      <td>CHOCOLATE PANNED</td>\n",
       "      <td>MONDELEZ INTERNATIONAL</td>\n",
       "      <td>CADBURY SHOTS</td>\n",
       "      <td>CADBURY SHOTS</td>\n",
       "    </tr>\n",
       "    <tr>\n",
       "      <th>5</th>\n",
       "      <td>M1</td>\n",
       "      <td>N1</td>\n",
       "      <td>4</td>\n",
       "      <td>1.0</td>\n",
       "      <td>10.0</td>\n",
       "      <td>10.0</td>\n",
       "      <td>CHOCOLATE</td>\n",
       "      <td>MOULDED</td>\n",
       "      <td>MOULDED</td>\n",
       "      <td>MONDELEZ INTERNATIONAL</td>\n",
       "      <td>CADBURY DAIRY MILK</td>\n",
       "      <td>DAIRY MILK</td>\n",
       "    </tr>\n",
       "    <tr>\n",
       "      <th>7</th>\n",
       "      <td>M1</td>\n",
       "      <td>N1</td>\n",
       "      <td>4</td>\n",
       "      <td>1.0</td>\n",
       "      <td>5.0</td>\n",
       "      <td>5.0</td>\n",
       "      <td>CHOCOLATE</td>\n",
       "      <td>COATED WAFER BISC</td>\n",
       "      <td>COATED WAFER BISC</td>\n",
       "      <td>GANDOUR INDIA FOOD PROCESSING</td>\n",
       "      <td>GANDOUR</td>\n",
       "      <td>GANDOUR</td>\n",
       "    </tr>\n",
       "    <tr>\n",
       "      <th>8</th>\n",
       "      <td>M1</td>\n",
       "      <td>N1</td>\n",
       "      <td>4</td>\n",
       "      <td>1.0</td>\n",
       "      <td>10.0</td>\n",
       "      <td>10.0</td>\n",
       "      <td>SALTY SNACKS (2/97)</td>\n",
       "      <td>POTATO WAFERS</td>\n",
       "      <td>POTATO WAFERS</td>\n",
       "      <td>PEPSICO INDIA</td>\n",
       "      <td>LAYS</td>\n",
       "      <td>LAYS AMERICAN STYLE</td>\n",
       "    </tr>\n",
       "    <tr>\n",
       "      <th>9</th>\n",
       "      <td>M1</td>\n",
       "      <td>N1</td>\n",
       "      <td>4</td>\n",
       "      <td>1.0</td>\n",
       "      <td>10.0</td>\n",
       "      <td>10.0</td>\n",
       "      <td>SALTY SNACKS (2/97)</td>\n",
       "      <td>POTATO WAFERS</td>\n",
       "      <td>POTATO WAFERS</td>\n",
       "      <td>PEPSICO INDIA</td>\n",
       "      <td>LAYS</td>\n",
       "      <td>LAYS CARIBBEAN STYLE</td>\n",
       "    </tr>\n",
       "  </tbody>\n",
       "</table>\n",
       "</div>"
      ],
      "text/plain": [
       "  MONTH STORECODE  DAY  QTY  VALUE  PRICE                  GRP  \\\n",
       "2    M1        N1    4  1.0   10.0   10.0            CHOCOLATE   \n",
       "5    M1        N1    4  1.0   10.0   10.0            CHOCOLATE   \n",
       "7    M1        N1    4  1.0    5.0    5.0            CHOCOLATE   \n",
       "8    M1        N1    4  1.0   10.0   10.0  SALTY SNACKS (2/97)   \n",
       "9    M1        N1    4  1.0   10.0   10.0  SALTY SNACKS (2/97)   \n",
       "\n",
       "                SGRP              SSGRP                            CMP  \\\n",
       "2   CHOCOLATE PANNED   CHOCOLATE PANNED         MONDELEZ INTERNATIONAL   \n",
       "5            MOULDED            MOULDED         MONDELEZ INTERNATIONAL   \n",
       "7  COATED WAFER BISC  COATED WAFER BISC  GANDOUR INDIA FOOD PROCESSING   \n",
       "8      POTATO WAFERS      POTATO WAFERS                  PEPSICO INDIA   \n",
       "9      POTATO WAFERS      POTATO WAFERS                  PEPSICO INDIA   \n",
       "\n",
       "                 MBRD                   BRD  \n",
       "2       CADBURY SHOTS         CADBURY SHOTS  \n",
       "5  CADBURY DAIRY MILK            DAIRY MILK  \n",
       "7             GANDOUR               GANDOUR  \n",
       "8                LAYS   LAYS AMERICAN STYLE  \n",
       "9                LAYS  LAYS CARIBBEAN STYLE  "
      ]
     },
     "execution_count": 34,
     "metadata": {},
     "output_type": "execute_result"
    }
   ],
   "source": [
    "small_items.head()"
   ]
  },
  {
   "cell_type": "markdown",
   "metadata": {},
   "source": [
    "Now we have items with GRP as \"CHOCOLATE\" and \"SALTY SNACKS (2/97)\", now we can further sort the data based on price and select top N records. N is the no of new rows\n",
    "<br> Note: We can also find unique items and sort based on the popularity(i.e. having more records) and then use Top N from it."
   ]
  },
  {
   "cell_type": "code",
   "execution_count": 35,
   "metadata": {},
   "outputs": [],
   "source": [
    "small_items_list = small_items.nsmallest(len(df_busy_rows.index),\"PRICE\")"
   ]
  },
  {
   "cell_type": "code",
   "execution_count": 36,
   "metadata": {
    "scrolled": true
   },
   "outputs": [],
   "source": [
    "small_items_list.reset_index(inplace=True,drop=True)"
   ]
  },
  {
   "cell_type": "code",
   "execution_count": 37,
   "metadata": {},
   "outputs": [
    {
     "data": {
      "text/html": [
       "<div>\n",
       "<style scoped>\n",
       "    .dataframe tbody tr th:only-of-type {\n",
       "        vertical-align: middle;\n",
       "    }\n",
       "\n",
       "    .dataframe tbody tr th {\n",
       "        vertical-align: top;\n",
       "    }\n",
       "\n",
       "    .dataframe thead th {\n",
       "        text-align: right;\n",
       "    }\n",
       "</style>\n",
       "<table border=\"1\" class=\"dataframe\">\n",
       "  <thead>\n",
       "    <tr style=\"text-align: right;\">\n",
       "      <th></th>\n",
       "      <th>MONTH</th>\n",
       "      <th>STORECODE</th>\n",
       "      <th>DAY</th>\n",
       "      <th>QTY</th>\n",
       "      <th>VALUE</th>\n",
       "      <th>PRICE</th>\n",
       "      <th>GRP</th>\n",
       "      <th>SGRP</th>\n",
       "      <th>SSGRP</th>\n",
       "      <th>CMP</th>\n",
       "      <th>MBRD</th>\n",
       "      <th>BRD</th>\n",
       "    </tr>\n",
       "  </thead>\n",
       "  <tbody>\n",
       "    <tr>\n",
       "      <th>0</th>\n",
       "      <td>M1</td>\n",
       "      <td>N4</td>\n",
       "      <td>11</td>\n",
       "      <td>15.0</td>\n",
       "      <td>71.25</td>\n",
       "      <td>4.75</td>\n",
       "      <td>SALTY SNACKS (2/97)</td>\n",
       "      <td>DAL</td>\n",
       "      <td>DAL</td>\n",
       "      <td>BALAJI WAFERS P L</td>\n",
       "      <td>BALAJI</td>\n",
       "      <td>BALAJI MOONG DAL</td>\n",
       "    </tr>\n",
       "    <tr>\n",
       "      <th>1</th>\n",
       "      <td>M1</td>\n",
       "      <td>N7</td>\n",
       "      <td>1</td>\n",
       "      <td>2.0</td>\n",
       "      <td>9.50</td>\n",
       "      <td>4.75</td>\n",
       "      <td>SALTY SNACKS (2/97)</td>\n",
       "      <td>NUTS</td>\n",
       "      <td>NUTS</td>\n",
       "      <td>HALDIRAM</td>\n",
       "      <td>HALDIRAM</td>\n",
       "      <td>HALDIRAM SALTED PEANUTS</td>\n",
       "    </tr>\n",
       "    <tr>\n",
       "      <th>2</th>\n",
       "      <td>M1</td>\n",
       "      <td>N7</td>\n",
       "      <td>2</td>\n",
       "      <td>1.0</td>\n",
       "      <td>4.75</td>\n",
       "      <td>4.75</td>\n",
       "      <td>SALTY SNACKS (2/97)</td>\n",
       "      <td>POTATO WAFERS</td>\n",
       "      <td>POTATO WAFERS</td>\n",
       "      <td>HALDIRAM</td>\n",
       "      <td>HALDIRAM</td>\n",
       "      <td>HALDIRAM MOPLEEZ</td>\n",
       "    </tr>\n",
       "    <tr>\n",
       "      <th>3</th>\n",
       "      <td>M1</td>\n",
       "      <td>N7</td>\n",
       "      <td>4</td>\n",
       "      <td>2.0</td>\n",
       "      <td>9.50</td>\n",
       "      <td>4.75</td>\n",
       "      <td>SALTY SNACKS (2/97)</td>\n",
       "      <td>POTATO WAFERS</td>\n",
       "      <td>POTATO WAFERS</td>\n",
       "      <td>HALDIRAM</td>\n",
       "      <td>HALDIRAM</td>\n",
       "      <td>HALDIRAM MOPLEEZ</td>\n",
       "    </tr>\n",
       "    <tr>\n",
       "      <th>4</th>\n",
       "      <td>M1</td>\n",
       "      <td>N7</td>\n",
       "      <td>5</td>\n",
       "      <td>2.0</td>\n",
       "      <td>9.50</td>\n",
       "      <td>4.75</td>\n",
       "      <td>SALTY SNACKS (2/97)</td>\n",
       "      <td>POTATO WAFERS</td>\n",
       "      <td>POTATO WAFERS</td>\n",
       "      <td>HALDIRAM</td>\n",
       "      <td>HALDIRAM</td>\n",
       "      <td>HALDIRAM MOPLEEZ</td>\n",
       "    </tr>\n",
       "  </tbody>\n",
       "</table>\n",
       "</div>"
      ],
      "text/plain": [
       "  MONTH STORECODE  DAY   QTY  VALUE  PRICE                  GRP  \\\n",
       "0    M1        N4   11  15.0  71.25   4.75  SALTY SNACKS (2/97)   \n",
       "1    M1        N7    1   2.0   9.50   4.75  SALTY SNACKS (2/97)   \n",
       "2    M1        N7    2   1.0   4.75   4.75  SALTY SNACKS (2/97)   \n",
       "3    M1        N7    4   2.0   9.50   4.75  SALTY SNACKS (2/97)   \n",
       "4    M1        N7    5   2.0   9.50   4.75  SALTY SNACKS (2/97)   \n",
       "\n",
       "            SGRP          SSGRP                CMP      MBRD  \\\n",
       "0            DAL            DAL  BALAJI WAFERS P L    BALAJI   \n",
       "1           NUTS           NUTS           HALDIRAM  HALDIRAM   \n",
       "2  POTATO WAFERS  POTATO WAFERS           HALDIRAM  HALDIRAM   \n",
       "3  POTATO WAFERS  POTATO WAFERS           HALDIRAM  HALDIRAM   \n",
       "4  POTATO WAFERS  POTATO WAFERS           HALDIRAM  HALDIRAM   \n",
       "\n",
       "                       BRD  \n",
       "0         BALAJI MOONG DAL  \n",
       "1  HALDIRAM SALTED PEANUTS  \n",
       "2         HALDIRAM MOPLEEZ  \n",
       "3         HALDIRAM MOPLEEZ  \n",
       "4         HALDIRAM MOPLEEZ  "
      ]
     },
     "execution_count": 37,
     "metadata": {},
     "output_type": "execute_result"
    }
   ],
   "source": [
    "small_items_list.head()"
   ]
  },
  {
   "cell_type": "markdown",
   "metadata": {},
   "source": [
    "Now we have the data which we can use to impute directly"
   ]
  },
  {
   "cell_type": "code",
   "execution_count": 38,
   "metadata": {},
   "outputs": [],
   "source": [
    "df_busy_rows['QTY'] = 1\n",
    "for column in df_busy_rows.columns[3:]:\n",
    "    df_busy_rows[column] = small_items_list[column]"
   ]
  },
  {
   "cell_type": "code",
   "execution_count": 39,
   "metadata": {},
   "outputs": [
    {
     "data": {
      "text/html": [
       "<div>\n",
       "<style scoped>\n",
       "    .dataframe tbody tr th:only-of-type {\n",
       "        vertical-align: middle;\n",
       "    }\n",
       "\n",
       "    .dataframe tbody tr th {\n",
       "        vertical-align: top;\n",
       "    }\n",
       "\n",
       "    .dataframe thead th {\n",
       "        text-align: right;\n",
       "    }\n",
       "</style>\n",
       "<table border=\"1\" class=\"dataframe\">\n",
       "  <thead>\n",
       "    <tr style=\"text-align: right;\">\n",
       "      <th></th>\n",
       "      <th>MONTH</th>\n",
       "      <th>STORECODE</th>\n",
       "      <th>DAY</th>\n",
       "      <th>QTY</th>\n",
       "      <th>VALUE</th>\n",
       "      <th>PRICE</th>\n",
       "      <th>GRP</th>\n",
       "      <th>SGRP</th>\n",
       "      <th>SSGRP</th>\n",
       "      <th>CMP</th>\n",
       "      <th>MBRD</th>\n",
       "      <th>BRD</th>\n",
       "    </tr>\n",
       "  </thead>\n",
       "  <tbody>\n",
       "    <tr>\n",
       "      <th>0</th>\n",
       "      <td>M1</td>\n",
       "      <td>N1</td>\n",
       "      <td>7</td>\n",
       "      <td>15.0</td>\n",
       "      <td>71.25</td>\n",
       "      <td>4.75</td>\n",
       "      <td>SALTY SNACKS (2/97)</td>\n",
       "      <td>DAL</td>\n",
       "      <td>DAL</td>\n",
       "      <td>BALAJI WAFERS P L</td>\n",
       "      <td>BALAJI</td>\n",
       "      <td>BALAJI MOONG DAL</td>\n",
       "    </tr>\n",
       "    <tr>\n",
       "      <th>1</th>\n",
       "      <td>M1</td>\n",
       "      <td>N1</td>\n",
       "      <td>7</td>\n",
       "      <td>2.0</td>\n",
       "      <td>9.50</td>\n",
       "      <td>4.75</td>\n",
       "      <td>SALTY SNACKS (2/97)</td>\n",
       "      <td>NUTS</td>\n",
       "      <td>NUTS</td>\n",
       "      <td>HALDIRAM</td>\n",
       "      <td>HALDIRAM</td>\n",
       "      <td>HALDIRAM SALTED PEANUTS</td>\n",
       "    </tr>\n",
       "    <tr>\n",
       "      <th>2</th>\n",
       "      <td>M1</td>\n",
       "      <td>N1</td>\n",
       "      <td>7</td>\n",
       "      <td>1.0</td>\n",
       "      <td>4.75</td>\n",
       "      <td>4.75</td>\n",
       "      <td>SALTY SNACKS (2/97)</td>\n",
       "      <td>POTATO WAFERS</td>\n",
       "      <td>POTATO WAFERS</td>\n",
       "      <td>HALDIRAM</td>\n",
       "      <td>HALDIRAM</td>\n",
       "      <td>HALDIRAM MOPLEEZ</td>\n",
       "    </tr>\n",
       "    <tr>\n",
       "      <th>3</th>\n",
       "      <td>M1</td>\n",
       "      <td>N1</td>\n",
       "      <td>7</td>\n",
       "      <td>2.0</td>\n",
       "      <td>9.50</td>\n",
       "      <td>4.75</td>\n",
       "      <td>SALTY SNACKS (2/97)</td>\n",
       "      <td>POTATO WAFERS</td>\n",
       "      <td>POTATO WAFERS</td>\n",
       "      <td>HALDIRAM</td>\n",
       "      <td>HALDIRAM</td>\n",
       "      <td>HALDIRAM MOPLEEZ</td>\n",
       "    </tr>\n",
       "    <tr>\n",
       "      <th>4</th>\n",
       "      <td>M1</td>\n",
       "      <td>N1</td>\n",
       "      <td>7</td>\n",
       "      <td>2.0</td>\n",
       "      <td>9.50</td>\n",
       "      <td>4.75</td>\n",
       "      <td>SALTY SNACKS (2/97)</td>\n",
       "      <td>POTATO WAFERS</td>\n",
       "      <td>POTATO WAFERS</td>\n",
       "      <td>HALDIRAM</td>\n",
       "      <td>HALDIRAM</td>\n",
       "      <td>HALDIRAM MOPLEEZ</td>\n",
       "    </tr>\n",
       "  </tbody>\n",
       "</table>\n",
       "</div>"
      ],
      "text/plain": [
       "  MONTH STORECODE DAY   QTY  VALUE  PRICE                  GRP           SGRP  \\\n",
       "0    M1        N1   7  15.0  71.25   4.75  SALTY SNACKS (2/97)            DAL   \n",
       "1    M1        N1   7   2.0   9.50   4.75  SALTY SNACKS (2/97)           NUTS   \n",
       "2    M1        N1   7   1.0   4.75   4.75  SALTY SNACKS (2/97)  POTATO WAFERS   \n",
       "3    M1        N1   7   2.0   9.50   4.75  SALTY SNACKS (2/97)  POTATO WAFERS   \n",
       "4    M1        N1   7   2.0   9.50   4.75  SALTY SNACKS (2/97)  POTATO WAFERS   \n",
       "\n",
       "           SSGRP                CMP      MBRD                      BRD  \n",
       "0            DAL  BALAJI WAFERS P L    BALAJI         BALAJI MOONG DAL  \n",
       "1           NUTS           HALDIRAM  HALDIRAM  HALDIRAM SALTED PEANUTS  \n",
       "2  POTATO WAFERS           HALDIRAM  HALDIRAM         HALDIRAM MOPLEEZ  \n",
       "3  POTATO WAFERS           HALDIRAM  HALDIRAM         HALDIRAM MOPLEEZ  \n",
       "4  POTATO WAFERS           HALDIRAM  HALDIRAM         HALDIRAM MOPLEEZ  "
      ]
     },
     "execution_count": 39,
     "metadata": {},
     "output_type": "execute_result"
    }
   ],
   "source": [
    "df_busy_rows.head()"
   ]
  },
  {
   "cell_type": "markdown",
   "metadata": {},
   "source": [
    "3. Merge the \"df_busy_rows\" dataframe with working data"
   ]
  },
  {
   "cell_type": "code",
   "execution_count": 40,
   "metadata": {},
   "outputs": [],
   "source": [
    "df_working_data = df_working_data.append(df_busy_rows, ignore_index=True)"
   ]
  },
  {
   "cell_type": "code",
   "execution_count": 41,
   "metadata": {},
   "outputs": [
    {
     "data": {
      "text/plain": [
       "(27503, 12)"
      ]
     },
     "execution_count": 41,
     "metadata": {},
     "output_type": "execute_result"
    }
   ],
   "source": [
    "df_working_data.shape"
   ]
  },
  {
   "cell_type": "code",
   "execution_count": 42,
   "metadata": {},
   "outputs": [],
   "source": [
    "df_working_data_copy2 = df_working_data"
   ]
  },
  {
   "cell_type": "markdown",
   "metadata": {},
   "source": [
    "Records for missing transactions  of Busy day is added."
   ]
  },
  {
   "cell_type": "markdown",
   "metadata": {},
   "source": [
    "## V. Create Records for missing days"
   ]
  },
  {
   "cell_type": "markdown",
   "metadata": {},
   "source": [
    "### Type 1. By finding similar rows and replacing rows"
   ]
  },
  {
   "cell_type": "markdown",
   "metadata": {},
   "source": [
    "Get rows based on the mean list to fill in the values in df_new_records dataframe"
   ]
  },
  {
   "cell_type": "markdown",
   "metadata": {},
   "source": [
    "Most sold item of all time independent of store or month"
   ]
  },
  {
   "cell_type": "code",
   "execution_count": 43,
   "metadata": {},
   "outputs": [
    {
     "data": {
      "text/plain": [
       "0    MARIE GOLD REGULAR\n",
       "dtype: object"
      ]
     },
     "execution_count": 43,
     "metadata": {},
     "output_type": "execute_result"
    }
   ],
   "source": [
    "df_working_data['BRD'].mode()"
   ]
  },
  {
   "cell_type": "markdown",
   "metadata": {},
   "source": [
    "Most sold item at Store N1 in the Month M1"
   ]
  },
  {
   "cell_type": "code",
   "execution_count": 44,
   "metadata": {},
   "outputs": [
    {
     "data": {
      "text/plain": [
       "0    DAIRY MILK\n",
       "dtype: object"
      ]
     },
     "execution_count": 44,
     "metadata": {},
     "output_type": "execute_result"
    }
   ],
   "source": [
    "df_working_data.loc[(df_working_data['MONTH']== 'M1') &\n",
    "                            (df_working_data['STORECODE']== 'N1')]['BRD'].mode()"
   ]
  },
  {
   "cell_type": "markdown",
   "metadata": {},
   "source": [
    "Top 5 Items sold across all stores"
   ]
  },
  {
   "cell_type": "code",
   "execution_count": 45,
   "metadata": {},
   "outputs": [
    {
     "data": {
      "text/plain": [
       "['MARIE GOLD REGULAR', 'AMUL', 'EVEREST', 'MAGGI MASALA', 'PARLE-G']"
      ]
     },
     "execution_count": 45,
     "metadata": {},
     "output_type": "execute_result"
    }
   ],
   "source": [
    "df_working_data['BRD'].value_counts()[:5].index.tolist()"
   ]
  },
  {
   "cell_type": "code",
   "execution_count": 46,
   "metadata": {},
   "outputs": [
    {
     "data": {
      "text/plain": [
       "[[1, 2, 3, 18, 19, 22, 23, 24, 27],\n",
       " [8, 10, 14, 18, 19, 20, 21, 23, 26, 29],\n",
       " [1, 21, 22, 24],\n",
       " [7, 14, 19, 21, 23, 27, 28],\n",
       " [5, 10, 11, 12, 16, 18, 19, 20, 23, 25, 26],\n",
       " [2, 7, 8, 9, 11, 13, 16, 20, 23, 27, 29],\n",
       " [2, 6, 7, 8, 10, 22, 23, 26, 27],\n",
       " [1, 6, 8, 9, 14, 23, 26, 28],\n",
       " [2, 5, 7, 12, 14, 19, 22, 23, 25, 29],\n",
       " [12, 13, 15, 17, 18, 19, 20, 21, 22, 25, 27],\n",
       " [9, 15, 19, 20, 22, 26, 27],\n",
       " [6, 22],\n",
       " [1, 11, 16, 18, 19, 23, 25, 26, 27],\n",
       " [1, 7, 8, 14, 18, 22, 24, 26],\n",
       " [1, 4, 6, 21, 26, 27],\n",
       " [4, 5, 6, 7, 8, 9, 13, 16, 17, 18, 20, 25],\n",
       " [3, 11, 18, 20, 21, 23, 24, 26, 27],\n",
       " [3, 15, 16, 17, 18, 20, 25, 26],\n",
       " [6, 9, 10, 11, 14, 16, 22, 24],\n",
       " [1, 2, 14, 16],\n",
       " [1, 6, 7, 11, 14, 16, 17, 19, 22, 26],\n",
       " [4, 6, 9, 14, 16, 28, 29],\n",
       " [2, 3, 9, 11, 13, 16, 19, 23, 27],\n",
       " [10, 13, 15, 23, 25, 29],\n",
       " [1, 5, 10, 13, 15, 21, 24, 27],\n",
       " [7, 14, 15, 18, 22, 23, 25, 28, 29],\n",
       " [4, 8, 10, 13, 15, 16, 21, 22, 23, 24, 25, 26, 27, 28, 29],\n",
       " [4, 6, 23, 28],\n",
       " [1, 6, 9, 10, 12, 16, 22],\n",
       " [14, 16, 19, 21, 22]]"
      ]
     },
     "execution_count": 46,
     "metadata": {},
     "output_type": "execute_result"
    }
   ],
   "source": [
    "# We have the list of days for which we need to create transactions\n",
    "missing_date_list"
   ]
  },
  {
   "cell_type": "code",
   "execution_count": 47,
   "metadata": {},
   "outputs": [],
   "source": [
    "result_df = pd.DataFrame(columns=df_working_data.columns)"
   ]
  },
  {
   "cell_type": "code",
   "execution_count": 48,
   "metadata": {
    "scrolled": true
   },
   "outputs": [
    {
     "data": {
      "text/html": [
       "<div>\n",
       "<style scoped>\n",
       "    .dataframe tbody tr th:only-of-type {\n",
       "        vertical-align: middle;\n",
       "    }\n",
       "\n",
       "    .dataframe tbody tr th {\n",
       "        vertical-align: top;\n",
       "    }\n",
       "\n",
       "    .dataframe thead th {\n",
       "        text-align: right;\n",
       "    }\n",
       "</style>\n",
       "<table border=\"1\" class=\"dataframe\">\n",
       "  <thead>\n",
       "    <tr style=\"text-align: right;\">\n",
       "      <th></th>\n",
       "      <th>MONTH</th>\n",
       "      <th>STORECODE</th>\n",
       "      <th>DAY</th>\n",
       "      <th>QTY</th>\n",
       "      <th>VALUE</th>\n",
       "      <th>PRICE</th>\n",
       "      <th>GRP</th>\n",
       "      <th>SGRP</th>\n",
       "      <th>SSGRP</th>\n",
       "      <th>CMP</th>\n",
       "      <th>MBRD</th>\n",
       "      <th>BRD</th>\n",
       "    </tr>\n",
       "  </thead>\n",
       "  <tbody>\n",
       "  </tbody>\n",
       "</table>\n",
       "</div>"
      ],
      "text/plain": [
       "Empty DataFrame\n",
       "Columns: [MONTH, STORECODE, DAY, QTY, VALUE, PRICE, GRP, SGRP, SSGRP, CMP, MBRD, BRD]\n",
       "Index: []"
      ]
     },
     "execution_count": 48,
     "metadata": {},
     "output_type": "execute_result"
    }
   ],
   "source": [
    "result_df.head()"
   ]
  },
  {
   "cell_type": "code",
   "execution_count": 49,
   "metadata": {},
   "outputs": [],
   "source": [
    "mean_list_counter = 0\n",
    "index=0\n",
    "rows_to_insert = pd.DataFrame(columns=df_working_data.columns)\n",
    "for store in store_list:\n",
    "    for month in month_list:\n",
    "        list_of_items= df_working_data.loc[(df_working_data['MONTH']== month) &\n",
    "                            (df_working_data['STORECODE']== store)]['BRD'].value_counts()[:mean_list[mean_list_counter]].index.tolist()\n",
    "        for day in missing_date_list[index]:   \n",
    "            rows_to_insert = df_working_data.loc[df_working_data['BRD'].isin(list_of_items)].head(mean_list[mean_list_counter])\n",
    "            rows_to_insert['DAY'] = day\n",
    "            result_df = result_df.append(rows_to_insert, ignore_index=True)\n",
    "            rows_to_insert.iloc[0:0]\n",
    "        index +=1\n",
    "        mean_list_counter += 1    "
   ]
  },
  {
   "cell_type": "code",
   "execution_count": 50,
   "metadata": {},
   "outputs": [
    {
     "data": {
      "text/html": [
       "<div>\n",
       "<style scoped>\n",
       "    .dataframe tbody tr th:only-of-type {\n",
       "        vertical-align: middle;\n",
       "    }\n",
       "\n",
       "    .dataframe tbody tr th {\n",
       "        vertical-align: top;\n",
       "    }\n",
       "\n",
       "    .dataframe thead th {\n",
       "        text-align: right;\n",
       "    }\n",
       "</style>\n",
       "<table border=\"1\" class=\"dataframe\">\n",
       "  <thead>\n",
       "    <tr style=\"text-align: right;\">\n",
       "      <th></th>\n",
       "      <th>MONTH</th>\n",
       "      <th>STORECODE</th>\n",
       "      <th>DAY</th>\n",
       "      <th>QTY</th>\n",
       "      <th>VALUE</th>\n",
       "      <th>PRICE</th>\n",
       "      <th>GRP</th>\n",
       "      <th>SGRP</th>\n",
       "      <th>SSGRP</th>\n",
       "      <th>CMP</th>\n",
       "      <th>MBRD</th>\n",
       "      <th>BRD</th>\n",
       "    </tr>\n",
       "  </thead>\n",
       "  <tbody>\n",
       "    <tr>\n",
       "      <th>0</th>\n",
       "      <td>M1</td>\n",
       "      <td>N1</td>\n",
       "      <td>1</td>\n",
       "      <td>1.0</td>\n",
       "      <td>225.0</td>\n",
       "      <td>225.0</td>\n",
       "      <td>BUTTER MARGR  (4/94)</td>\n",
       "      <td>BUTTER</td>\n",
       "      <td>SALTED</td>\n",
       "      <td>G C M M F</td>\n",
       "      <td>AMUL</td>\n",
       "      <td>AMUL</td>\n",
       "    </tr>\n",
       "    <tr>\n",
       "      <th>1</th>\n",
       "      <td>M1</td>\n",
       "      <td>N1</td>\n",
       "      <td>1</td>\n",
       "      <td>1.0</td>\n",
       "      <td>10.0</td>\n",
       "      <td>10.0</td>\n",
       "      <td>CHOCOLATE</td>\n",
       "      <td>CHOCOLATE PANNED</td>\n",
       "      <td>CHOCOLATE PANNED</td>\n",
       "      <td>MONDELEZ INTERNATIONAL</td>\n",
       "      <td>CADBURY SHOTS</td>\n",
       "      <td>CADBURY SHOTS</td>\n",
       "    </tr>\n",
       "    <tr>\n",
       "      <th>2</th>\n",
       "      <td>M1</td>\n",
       "      <td>N1</td>\n",
       "      <td>1</td>\n",
       "      <td>1.0</td>\n",
       "      <td>19.0</td>\n",
       "      <td>19.0</td>\n",
       "      <td>ALL IODISED SALT</td>\n",
       "      <td>POWDERED SALT</td>\n",
       "      <td>POWDERED SALT</td>\n",
       "      <td>TATA CHEM</td>\n",
       "      <td>TATA</td>\n",
       "      <td>TATA SALT</td>\n",
       "    </tr>\n",
       "    <tr>\n",
       "      <th>3</th>\n",
       "      <td>M1</td>\n",
       "      <td>N1</td>\n",
       "      <td>1</td>\n",
       "      <td>1.0</td>\n",
       "      <td>10.0</td>\n",
       "      <td>10.0</td>\n",
       "      <td>CHOCOLATE</td>\n",
       "      <td>MOULDED</td>\n",
       "      <td>MOULDED</td>\n",
       "      <td>MONDELEZ INTERNATIONAL</td>\n",
       "      <td>CADBURY DAIRY MILK</td>\n",
       "      <td>DAIRY MILK</td>\n",
       "    </tr>\n",
       "    <tr>\n",
       "      <th>4</th>\n",
       "      <td>M1</td>\n",
       "      <td>N1</td>\n",
       "      <td>1</td>\n",
       "      <td>1.0</td>\n",
       "      <td>5.0</td>\n",
       "      <td>5.0</td>\n",
       "      <td>CHOCOLATE</td>\n",
       "      <td>COATED WAFER BISC</td>\n",
       "      <td>COATED WAFER BISC</td>\n",
       "      <td>GANDOUR INDIA FOOD PROCESSING</td>\n",
       "      <td>GANDOUR</td>\n",
       "      <td>GANDOUR</td>\n",
       "    </tr>\n",
       "  </tbody>\n",
       "</table>\n",
       "</div>"
      ],
      "text/plain": [
       "  MONTH STORECODE DAY  QTY  VALUE  PRICE                   GRP  \\\n",
       "0    M1        N1   1  1.0  225.0  225.0  BUTTER MARGR  (4/94)   \n",
       "1    M1        N1   1  1.0   10.0   10.0             CHOCOLATE   \n",
       "2    M1        N1   1  1.0   19.0   19.0      ALL IODISED SALT   \n",
       "3    M1        N1   1  1.0   10.0   10.0             CHOCOLATE   \n",
       "4    M1        N1   1  1.0    5.0    5.0             CHOCOLATE   \n",
       "\n",
       "                SGRP              SSGRP                            CMP  \\\n",
       "0             BUTTER             SALTED                      G C M M F   \n",
       "1   CHOCOLATE PANNED   CHOCOLATE PANNED         MONDELEZ INTERNATIONAL   \n",
       "2      POWDERED SALT      POWDERED SALT                      TATA CHEM   \n",
       "3            MOULDED            MOULDED         MONDELEZ INTERNATIONAL   \n",
       "4  COATED WAFER BISC  COATED WAFER BISC  GANDOUR INDIA FOOD PROCESSING   \n",
       "\n",
       "                 MBRD            BRD  \n",
       "0                AMUL           AMUL  \n",
       "1       CADBURY SHOTS  CADBURY SHOTS  \n",
       "2                TATA      TATA SALT  \n",
       "3  CADBURY DAIRY MILK     DAIRY MILK  \n",
       "4             GANDOUR        GANDOUR  "
      ]
     },
     "execution_count": 50,
     "metadata": {},
     "output_type": "execute_result"
    }
   ],
   "source": [
    "result_df.head()"
   ]
  },
  {
   "cell_type": "code",
   "execution_count": 51,
   "metadata": {},
   "outputs": [
    {
     "data": {
      "text/plain": [
       "(8862, 12)"
      ]
     },
     "execution_count": 51,
     "metadata": {},
     "output_type": "execute_result"
    }
   ],
   "source": [
    "result_df.shape"
   ]
  },
  {
   "cell_type": "markdown",
   "metadata": {},
   "source": [
    "Set of New transactions for all missing dates are ready, we can now merge the same to working data."
   ]
  },
  {
   "cell_type": "code",
   "execution_count": 52,
   "metadata": {},
   "outputs": [],
   "source": [
    "df_working_data = df_working_data.append(result_df, ignore_index=True)"
   ]
  },
  {
   "cell_type": "code",
   "execution_count": 53,
   "metadata": {},
   "outputs": [
    {
     "data": {
      "text/plain": [
       "(36365, 12)"
      ]
     },
     "execution_count": 53,
     "metadata": {},
     "output_type": "execute_result"
    }
   ],
   "source": [
    "df_working_data.shape"
   ]
  },
  {
   "cell_type": "markdown",
   "metadata": {},
   "source": [
    "## Type 2: Using Sklearn Imputer : IterativeImputer"
   ]
  },
  {
   "cell_type": "markdown",
   "metadata": {},
   "source": [
    "Create Null rows, data for missing dates"
   ]
  },
  {
   "cell_type": "code",
   "execution_count": 54,
   "metadata": {},
   "outputs": [],
   "source": [
    "df_new_records = pd.DataFrame(columns=df_working_data.columns)"
   ]
  },
  {
   "cell_type": "code",
   "execution_count": 55,
   "metadata": {},
   "outputs": [
    {
     "data": {
      "text/html": [
       "<div>\n",
       "<style scoped>\n",
       "    .dataframe tbody tr th:only-of-type {\n",
       "        vertical-align: middle;\n",
       "    }\n",
       "\n",
       "    .dataframe tbody tr th {\n",
       "        vertical-align: top;\n",
       "    }\n",
       "\n",
       "    .dataframe thead th {\n",
       "        text-align: right;\n",
       "    }\n",
       "</style>\n",
       "<table border=\"1\" class=\"dataframe\">\n",
       "  <thead>\n",
       "    <tr style=\"text-align: right;\">\n",
       "      <th></th>\n",
       "      <th>MONTH</th>\n",
       "      <th>STORECODE</th>\n",
       "      <th>DAY</th>\n",
       "      <th>QTY</th>\n",
       "      <th>VALUE</th>\n",
       "      <th>PRICE</th>\n",
       "      <th>GRP</th>\n",
       "      <th>SGRP</th>\n",
       "      <th>SSGRP</th>\n",
       "      <th>CMP</th>\n",
       "      <th>MBRD</th>\n",
       "      <th>BRD</th>\n",
       "    </tr>\n",
       "  </thead>\n",
       "  <tbody>\n",
       "  </tbody>\n",
       "</table>\n",
       "</div>"
      ],
      "text/plain": [
       "Empty DataFrame\n",
       "Columns: [MONTH, STORECODE, DAY, QTY, VALUE, PRICE, GRP, SGRP, SSGRP, CMP, MBRD, BRD]\n",
       "Index: []"
      ]
     },
     "execution_count": 55,
     "metadata": {},
     "output_type": "execute_result"
    }
   ],
   "source": [
    "df_new_records.head()"
   ]
  },
  {
   "cell_type": "code",
   "execution_count": 56,
   "metadata": {},
   "outputs": [],
   "source": [
    "index = 0\n",
    "for store in store_list:\n",
    "    for month in month_list:\n",
    "        for day in missing_date_list[index]:\n",
    "            new_record = {\"MONTH\":month, \"STORECODE\":store,\"DAY\":day,\"QTY\":np.nan,\n",
    "                       \"VALUE\":np.nan, \"PRICE\":np.nan, \"GRP\":np.nan, \"SGRP\":np.nan,\n",
    "                       \"SSGRP\":np.nan, \"CMP\":np.nan, \"MBRD\":np.nan, \"BRD\":np.nan}\n",
    "            for i in range(mean_list[index]):\n",
    "                df_new_records = df_new_records.append(new_record, ignore_index=True)\n",
    "        index = index +1"
   ]
  },
  {
   "cell_type": "code",
   "execution_count": 57,
   "metadata": {},
   "outputs": [
    {
     "data": {
      "text/html": [
       "<div>\n",
       "<style scoped>\n",
       "    .dataframe tbody tr th:only-of-type {\n",
       "        vertical-align: middle;\n",
       "    }\n",
       "\n",
       "    .dataframe tbody tr th {\n",
       "        vertical-align: top;\n",
       "    }\n",
       "\n",
       "    .dataframe thead th {\n",
       "        text-align: right;\n",
       "    }\n",
       "</style>\n",
       "<table border=\"1\" class=\"dataframe\">\n",
       "  <thead>\n",
       "    <tr style=\"text-align: right;\">\n",
       "      <th></th>\n",
       "      <th>MONTH</th>\n",
       "      <th>STORECODE</th>\n",
       "      <th>DAY</th>\n",
       "      <th>QTY</th>\n",
       "      <th>VALUE</th>\n",
       "      <th>PRICE</th>\n",
       "      <th>GRP</th>\n",
       "      <th>SGRP</th>\n",
       "      <th>SSGRP</th>\n",
       "      <th>CMP</th>\n",
       "      <th>MBRD</th>\n",
       "      <th>BRD</th>\n",
       "    </tr>\n",
       "  </thead>\n",
       "  <tbody>\n",
       "    <tr>\n",
       "      <th>0</th>\n",
       "      <td>M1</td>\n",
       "      <td>N1</td>\n",
       "      <td>1</td>\n",
       "      <td>NaN</td>\n",
       "      <td>NaN</td>\n",
       "      <td>NaN</td>\n",
       "      <td>NaN</td>\n",
       "      <td>NaN</td>\n",
       "      <td>NaN</td>\n",
       "      <td>NaN</td>\n",
       "      <td>NaN</td>\n",
       "      <td>NaN</td>\n",
       "    </tr>\n",
       "    <tr>\n",
       "      <th>1</th>\n",
       "      <td>M1</td>\n",
       "      <td>N1</td>\n",
       "      <td>1</td>\n",
       "      <td>NaN</td>\n",
       "      <td>NaN</td>\n",
       "      <td>NaN</td>\n",
       "      <td>NaN</td>\n",
       "      <td>NaN</td>\n",
       "      <td>NaN</td>\n",
       "      <td>NaN</td>\n",
       "      <td>NaN</td>\n",
       "      <td>NaN</td>\n",
       "    </tr>\n",
       "    <tr>\n",
       "      <th>2</th>\n",
       "      <td>M1</td>\n",
       "      <td>N1</td>\n",
       "      <td>1</td>\n",
       "      <td>NaN</td>\n",
       "      <td>NaN</td>\n",
       "      <td>NaN</td>\n",
       "      <td>NaN</td>\n",
       "      <td>NaN</td>\n",
       "      <td>NaN</td>\n",
       "      <td>NaN</td>\n",
       "      <td>NaN</td>\n",
       "      <td>NaN</td>\n",
       "    </tr>\n",
       "    <tr>\n",
       "      <th>3</th>\n",
       "      <td>M1</td>\n",
       "      <td>N1</td>\n",
       "      <td>1</td>\n",
       "      <td>NaN</td>\n",
       "      <td>NaN</td>\n",
       "      <td>NaN</td>\n",
       "      <td>NaN</td>\n",
       "      <td>NaN</td>\n",
       "      <td>NaN</td>\n",
       "      <td>NaN</td>\n",
       "      <td>NaN</td>\n",
       "      <td>NaN</td>\n",
       "    </tr>\n",
       "    <tr>\n",
       "      <th>4</th>\n",
       "      <td>M1</td>\n",
       "      <td>N1</td>\n",
       "      <td>1</td>\n",
       "      <td>NaN</td>\n",
       "      <td>NaN</td>\n",
       "      <td>NaN</td>\n",
       "      <td>NaN</td>\n",
       "      <td>NaN</td>\n",
       "      <td>NaN</td>\n",
       "      <td>NaN</td>\n",
       "      <td>NaN</td>\n",
       "      <td>NaN</td>\n",
       "    </tr>\n",
       "  </tbody>\n",
       "</table>\n",
       "</div>"
      ],
      "text/plain": [
       "  MONTH STORECODE DAY  QTY VALUE PRICE  GRP SGRP SSGRP  CMP MBRD  BRD\n",
       "0    M1        N1   1  NaN   NaN   NaN  NaN  NaN   NaN  NaN  NaN  NaN\n",
       "1    M1        N1   1  NaN   NaN   NaN  NaN  NaN   NaN  NaN  NaN  NaN\n",
       "2    M1        N1   1  NaN   NaN   NaN  NaN  NaN   NaN  NaN  NaN  NaN\n",
       "3    M1        N1   1  NaN   NaN   NaN  NaN  NaN   NaN  NaN  NaN  NaN\n",
       "4    M1        N1   1  NaN   NaN   NaN  NaN  NaN   NaN  NaN  NaN  NaN"
      ]
     },
     "execution_count": 57,
     "metadata": {},
     "output_type": "execute_result"
    }
   ],
   "source": [
    "df_new_records.head()"
   ]
  },
  {
   "cell_type": "code",
   "execution_count": 58,
   "metadata": {},
   "outputs": [
    {
     "data": {
      "text/html": [
       "<div>\n",
       "<style scoped>\n",
       "    .dataframe tbody tr th:only-of-type {\n",
       "        vertical-align: middle;\n",
       "    }\n",
       "\n",
       "    .dataframe tbody tr th {\n",
       "        vertical-align: top;\n",
       "    }\n",
       "\n",
       "    .dataframe thead th {\n",
       "        text-align: right;\n",
       "    }\n",
       "</style>\n",
       "<table border=\"1\" class=\"dataframe\">\n",
       "  <thead>\n",
       "    <tr style=\"text-align: right;\">\n",
       "      <th></th>\n",
       "      <th>MONTH</th>\n",
       "      <th>STORECODE</th>\n",
       "      <th>DAY</th>\n",
       "      <th>QTY</th>\n",
       "      <th>VALUE</th>\n",
       "      <th>PRICE</th>\n",
       "      <th>GRP</th>\n",
       "      <th>SGRP</th>\n",
       "      <th>SSGRP</th>\n",
       "      <th>CMP</th>\n",
       "      <th>MBRD</th>\n",
       "      <th>BRD</th>\n",
       "    </tr>\n",
       "  </thead>\n",
       "  <tbody>\n",
       "    <tr>\n",
       "      <th>0</th>\n",
       "      <td>M1</td>\n",
       "      <td>N1</td>\n",
       "      <td>4</td>\n",
       "      <td>1.0</td>\n",
       "      <td>225.0</td>\n",
       "      <td>225.0</td>\n",
       "      <td>BUTTER MARGR  (4/94)</td>\n",
       "      <td>BUTTER</td>\n",
       "      <td>SALTED</td>\n",
       "      <td>G C M M F</td>\n",
       "      <td>AMUL</td>\n",
       "      <td>AMUL</td>\n",
       "    </tr>\n",
       "    <tr>\n",
       "      <th>1</th>\n",
       "      <td>M1</td>\n",
       "      <td>N1</td>\n",
       "      <td>4</td>\n",
       "      <td>1.0</td>\n",
       "      <td>95.0</td>\n",
       "      <td>95.0</td>\n",
       "      <td>CONFECTIONERY - ECLAIRS</td>\n",
       "      <td>CONFECTIONERY - ECLAIRS</td>\n",
       "      <td>CONFECTIONERY - ECLAIRS</td>\n",
       "      <td>PARLE PRODS</td>\n",
       "      <td>MELODY</td>\n",
       "      <td>MELODY CHOCOLATY</td>\n",
       "    </tr>\n",
       "    <tr>\n",
       "      <th>2</th>\n",
       "      <td>M1</td>\n",
       "      <td>N1</td>\n",
       "      <td>4</td>\n",
       "      <td>1.0</td>\n",
       "      <td>10.0</td>\n",
       "      <td>10.0</td>\n",
       "      <td>CHOCOLATE</td>\n",
       "      <td>CHOCOLATE PANNED</td>\n",
       "      <td>CHOCOLATE PANNED</td>\n",
       "      <td>MONDELEZ INTERNATIONAL</td>\n",
       "      <td>CADBURY SHOTS</td>\n",
       "      <td>CADBURY SHOTS</td>\n",
       "    </tr>\n",
       "    <tr>\n",
       "      <th>3</th>\n",
       "      <td>M1</td>\n",
       "      <td>N1</td>\n",
       "      <td>4</td>\n",
       "      <td>1.0</td>\n",
       "      <td>108.0</td>\n",
       "      <td>108.0</td>\n",
       "      <td>PACKAGED TEA</td>\n",
       "      <td>MAIN PACKS</td>\n",
       "      <td>MAIN PACKS</td>\n",
       "      <td>GUJ TEA PROCESSORS</td>\n",
       "      <td>WAGH BAKRI</td>\n",
       "      <td>WAGH BAKRI INSTANT</td>\n",
       "    </tr>\n",
       "    <tr>\n",
       "      <th>4</th>\n",
       "      <td>M1</td>\n",
       "      <td>N1</td>\n",
       "      <td>4</td>\n",
       "      <td>1.0</td>\n",
       "      <td>19.0</td>\n",
       "      <td>19.0</td>\n",
       "      <td>ALL IODISED SALT</td>\n",
       "      <td>POWDERED SALT</td>\n",
       "      <td>POWDERED SALT</td>\n",
       "      <td>TATA CHEM</td>\n",
       "      <td>TATA</td>\n",
       "      <td>TATA SALT</td>\n",
       "    </tr>\n",
       "  </tbody>\n",
       "</table>\n",
       "</div>"
      ],
      "text/plain": [
       "  MONTH STORECODE DAY  QTY  VALUE  PRICE                      GRP  \\\n",
       "0    M1        N1   4  1.0  225.0  225.0     BUTTER MARGR  (4/94)   \n",
       "1    M1        N1   4  1.0   95.0   95.0  CONFECTIONERY - ECLAIRS   \n",
       "2    M1        N1   4  1.0   10.0   10.0                CHOCOLATE   \n",
       "3    M1        N1   4  1.0  108.0  108.0             PACKAGED TEA   \n",
       "4    M1        N1   4  1.0   19.0   19.0         ALL IODISED SALT   \n",
       "\n",
       "                      SGRP                    SSGRP                     CMP  \\\n",
       "0                   BUTTER                   SALTED               G C M M F   \n",
       "1  CONFECTIONERY - ECLAIRS  CONFECTIONERY - ECLAIRS             PARLE PRODS   \n",
       "2         CHOCOLATE PANNED         CHOCOLATE PANNED  MONDELEZ INTERNATIONAL   \n",
       "3               MAIN PACKS               MAIN PACKS      GUJ TEA PROCESSORS   \n",
       "4            POWDERED SALT            POWDERED SALT               TATA CHEM   \n",
       "\n",
       "            MBRD                 BRD  \n",
       "0           AMUL                AMUL  \n",
       "1         MELODY    MELODY CHOCOLATY  \n",
       "2  CADBURY SHOTS       CADBURY SHOTS  \n",
       "3     WAGH BAKRI  WAGH BAKRI INSTANT  \n",
       "4           TATA           TATA SALT  "
      ]
     },
     "execution_count": 58,
     "metadata": {},
     "output_type": "execute_result"
    }
   ],
   "source": [
    "df_working_data_copy2.head()"
   ]
  },
  {
   "cell_type": "markdown",
   "metadata": {},
   "source": [
    "Add the newly created rows to working data"
   ]
  },
  {
   "cell_type": "code",
   "execution_count": 59,
   "metadata": {},
   "outputs": [],
   "source": [
    "df_working_data_copy2 = df_working_data_copy2.append(df_new_records, ignore_index=True)"
   ]
  },
  {
   "cell_type": "code",
   "execution_count": 60,
   "metadata": {},
   "outputs": [
    {
     "data": {
      "text/plain": [
       "(36365, 12)"
      ]
     },
     "execution_count": 60,
     "metadata": {},
     "output_type": "execute_result"
    }
   ],
   "source": [
    "df_working_data_copy2.shape"
   ]
  },
  {
   "cell_type": "markdown",
   "metadata": {},
   "source": [
    "1. Handling the categorical  columns"
   ]
  },
  {
   "cell_type": "code",
   "execution_count": 61,
   "metadata": {},
   "outputs": [],
   "source": [
    "encoder = LabelEncoder()"
   ]
  },
  {
   "cell_type": "code",
   "execution_count": 62,
   "metadata": {},
   "outputs": [],
   "source": [
    "cat_cols = ['MONTH','STORECODE','GRP','SGRP','SSGRP','CMP','MBRD','BRD']"
   ]
  },
  {
   "cell_type": "code",
   "execution_count": 63,
   "metadata": {},
   "outputs": [],
   "source": [
    "def encode(data):\n",
    "    '''function to encode non-null data and replace it in the original data'''\n",
    "    nonulls = np.array(data.dropna())\n",
    "    impute_reshape = nonulls.reshape(-1,1)\n",
    "    impute_ordinal = encoder.fit_transform(impute_reshape)\n",
    "    data.loc[data.notnull()] = np.squeeze(impute_ordinal)\n",
    "    return data"
   ]
  },
  {
   "cell_type": "code",
   "execution_count": 64,
   "metadata": {},
   "outputs": [
    {
     "name": "stderr",
     "output_type": "stream",
     "text": [
      "C:\\Users\\Aashish\\anaconda3\\lib\\site-packages\\sklearn\\utils\\validation.py:73: DataConversionWarning: A column-vector y was passed when a 1d array was expected. Please change the shape of y to (n_samples, ), for example using ravel().\n",
      "  return f(**kwargs)\n",
      "C:\\Users\\Aashish\\anaconda3\\lib\\site-packages\\pandas\\core\\indexing.py:671: SettingWithCopyWarning: \n",
      "A value is trying to be set on a copy of a slice from a DataFrame\n",
      "\n",
      "See the caveats in the documentation: https://pandas.pydata.org/pandas-docs/stable/user_guide/indexing.html#returning-a-view-versus-a-copy\n",
      "  self._setitem_with_indexer(indexer, value)\n"
     ]
    }
   ],
   "source": [
    "for columns in cat_cols:\n",
    "    encode(df_working_data_copy2[columns])"
   ]
  },
  {
   "cell_type": "code",
   "execution_count": 65,
   "metadata": {},
   "outputs": [
    {
     "data": {
      "text/html": [
       "<div>\n",
       "<style scoped>\n",
       "    .dataframe tbody tr th:only-of-type {\n",
       "        vertical-align: middle;\n",
       "    }\n",
       "\n",
       "    .dataframe tbody tr th {\n",
       "        vertical-align: top;\n",
       "    }\n",
       "\n",
       "    .dataframe thead th {\n",
       "        text-align: right;\n",
       "    }\n",
       "</style>\n",
       "<table border=\"1\" class=\"dataframe\">\n",
       "  <thead>\n",
       "    <tr style=\"text-align: right;\">\n",
       "      <th></th>\n",
       "      <th>MONTH</th>\n",
       "      <th>STORECODE</th>\n",
       "      <th>DAY</th>\n",
       "      <th>QTY</th>\n",
       "      <th>VALUE</th>\n",
       "      <th>PRICE</th>\n",
       "      <th>GRP</th>\n",
       "      <th>SGRP</th>\n",
       "      <th>SSGRP</th>\n",
       "      <th>CMP</th>\n",
       "      <th>MBRD</th>\n",
       "      <th>BRD</th>\n",
       "    </tr>\n",
       "  </thead>\n",
       "  <tbody>\n",
       "    <tr>\n",
       "      <th>0</th>\n",
       "      <td>0</td>\n",
       "      <td>0</td>\n",
       "      <td>4</td>\n",
       "      <td>1.0</td>\n",
       "      <td>225.0</td>\n",
       "      <td>225.0</td>\n",
       "      <td>14</td>\n",
       "      <td>25</td>\n",
       "      <td>191</td>\n",
       "      <td>90</td>\n",
       "      <td>18</td>\n",
       "      <td>39</td>\n",
       "    </tr>\n",
       "    <tr>\n",
       "      <th>1</th>\n",
       "      <td>0</td>\n",
       "      <td>0</td>\n",
       "      <td>4</td>\n",
       "      <td>1.0</td>\n",
       "      <td>95.0</td>\n",
       "      <td>95.0</td>\n",
       "      <td>26</td>\n",
       "      <td>40</td>\n",
       "      <td>51</td>\n",
       "      <td>233</td>\n",
       "      <td>345</td>\n",
       "      <td>783</td>\n",
       "    </tr>\n",
       "    <tr>\n",
       "      <th>2</th>\n",
       "      <td>0</td>\n",
       "      <td>0</td>\n",
       "      <td>4</td>\n",
       "      <td>1.0</td>\n",
       "      <td>10.0</td>\n",
       "      <td>10.0</td>\n",
       "      <td>16</td>\n",
       "      <td>32</td>\n",
       "      <td>42</td>\n",
       "      <td>206</td>\n",
       "      <td>66</td>\n",
       "      <td>142</td>\n",
       "    </tr>\n",
       "    <tr>\n",
       "      <th>3</th>\n",
       "      <td>0</td>\n",
       "      <td>0</td>\n",
       "      <td>4</td>\n",
       "      <td>1.0</td>\n",
       "      <td>108.0</td>\n",
       "      <td>108.0</td>\n",
       "      <td>52</td>\n",
       "      <td>88</td>\n",
       "      <td>119</td>\n",
       "      <td>114</td>\n",
       "      <td>624</td>\n",
       "      <td>1277</td>\n",
       "    </tr>\n",
       "    <tr>\n",
       "      <th>4</th>\n",
       "      <td>0</td>\n",
       "      <td>0</td>\n",
       "      <td>4</td>\n",
       "      <td>1.0</td>\n",
       "      <td>19.0</td>\n",
       "      <td>19.0</td>\n",
       "      <td>3</td>\n",
       "      <td>121</td>\n",
       "      <td>169</td>\n",
       "      <td>315</td>\n",
       "      <td>578</td>\n",
       "      <td>1197</td>\n",
       "    </tr>\n",
       "  </tbody>\n",
       "</table>\n",
       "</div>"
      ],
      "text/plain": [
       "   MONTH  STORECODE DAY  QTY  VALUE  PRICE GRP SGRP SSGRP  CMP MBRD   BRD\n",
       "0      0          0   4  1.0  225.0  225.0  14   25   191   90   18    39\n",
       "1      0          0   4  1.0   95.0   95.0  26   40    51  233  345   783\n",
       "2      0          0   4  1.0   10.0   10.0  16   32    42  206   66   142\n",
       "3      0          0   4  1.0  108.0  108.0  52   88   119  114  624  1277\n",
       "4      0          0   4  1.0   19.0   19.0   3  121   169  315  578  1197"
      ]
     },
     "execution_count": 65,
     "metadata": {},
     "output_type": "execute_result"
    }
   ],
   "source": [
    "df_working_data_copy2.head()"
   ]
  },
  {
   "cell_type": "code",
   "execution_count": 66,
   "metadata": {},
   "outputs": [
    {
     "data": {
      "text/plain": [
       "MONTH           0\n",
       "STORECODE       0\n",
       "DAY             0\n",
       "QTY          8862\n",
       "VALUE        8862\n",
       "PRICE        8862\n",
       "GRP          8862\n",
       "SGRP         8862\n",
       "SSGRP        8862\n",
       "CMP          8862\n",
       "MBRD         8862\n",
       "BRD          8862\n",
       "dtype: int64"
      ]
     },
     "execution_count": 66,
     "metadata": {},
     "output_type": "execute_result"
    }
   ],
   "source": [
    "df_working_data_copy2.isnull().sum()"
   ]
  },
  {
   "cell_type": "markdown",
   "metadata": {},
   "source": [
    "All the categorical columns are now encoded and we have the null values for which we need to build imputation model"
   ]
  },
  {
   "cell_type": "markdown",
   "metadata": {},
   "source": [
    "2. Create imputer object , fit and transform data"
   ]
  },
  {
   "cell_type": "code",
   "execution_count": 67,
   "metadata": {},
   "outputs": [],
   "source": [
    " imputer = IterativeImputer(missing_values=np.nan,\n",
    "                               random_state=0,initial_strategy='most_frequent')"
   ]
  },
  {
   "cell_type": "code",
   "execution_count": 68,
   "metadata": {},
   "outputs": [
    {
     "data": {
      "text/plain": [
       "IterativeImputer(initial_strategy='most_frequent', random_state=0)"
      ]
     },
     "execution_count": 68,
     "metadata": {},
     "output_type": "execute_result"
    }
   ],
   "source": [
    "imputer.fit(df_working_data_copy2)"
   ]
  },
  {
   "cell_type": "code",
   "execution_count": 69,
   "metadata": {},
   "outputs": [],
   "source": [
    "df_working_data_imputed = imputer.transform(df_working_data_copy2)"
   ]
  },
  {
   "cell_type": "code",
   "execution_count": 70,
   "metadata": {},
   "outputs": [
    {
     "data": {
      "text/plain": [
       "array([[  0.        ,   0.        ,   4.        , ...,  90.        ,\n",
       "         18.        ,  39.        ],\n",
       "       [  0.        ,   0.        ,   4.        , ..., 233.        ,\n",
       "        345.        , 783.        ],\n",
       "       [  0.        ,   0.        ,   4.        , ..., 206.        ,\n",
       "         66.        , 142.        ],\n",
       "       ...,\n",
       "       [  2.        ,   1.        ,  22.        , ..., 169.30853839,\n",
       "        334.89291979, 706.26465232],\n",
       "       [  2.        ,   1.        ,  22.        , ..., 169.30853839,\n",
       "        334.89291979, 706.26465232],\n",
       "       [  2.        ,   1.        ,  22.        , ..., 169.30853839,\n",
       "        334.89291979, 706.26465232]])"
      ]
     },
     "execution_count": 70,
     "metadata": {},
     "output_type": "execute_result"
    }
   ],
   "source": [
    "df_working_data_imputed"
   ]
  },
  {
   "cell_type": "code",
   "execution_count": 71,
   "metadata": {},
   "outputs": [],
   "source": [
    "df_final_data = pd.DataFrame(df_working_data_imputed,columns=df_working_data_copy2.columns)"
   ]
  },
  {
   "cell_type": "code",
   "execution_count": 72,
   "metadata": {},
   "outputs": [
    {
     "data": {
      "text/html": [
       "<div>\n",
       "<style scoped>\n",
       "    .dataframe tbody tr th:only-of-type {\n",
       "        vertical-align: middle;\n",
       "    }\n",
       "\n",
       "    .dataframe tbody tr th {\n",
       "        vertical-align: top;\n",
       "    }\n",
       "\n",
       "    .dataframe thead th {\n",
       "        text-align: right;\n",
       "    }\n",
       "</style>\n",
       "<table border=\"1\" class=\"dataframe\">\n",
       "  <thead>\n",
       "    <tr style=\"text-align: right;\">\n",
       "      <th></th>\n",
       "      <th>MONTH</th>\n",
       "      <th>STORECODE</th>\n",
       "      <th>DAY</th>\n",
       "      <th>QTY</th>\n",
       "      <th>VALUE</th>\n",
       "      <th>PRICE</th>\n",
       "      <th>GRP</th>\n",
       "      <th>SGRP</th>\n",
       "      <th>SSGRP</th>\n",
       "      <th>CMP</th>\n",
       "      <th>MBRD</th>\n",
       "      <th>BRD</th>\n",
       "    </tr>\n",
       "  </thead>\n",
       "  <tbody>\n",
       "    <tr>\n",
       "      <th>0</th>\n",
       "      <td>0.0</td>\n",
       "      <td>0.0</td>\n",
       "      <td>4.0</td>\n",
       "      <td>1.0</td>\n",
       "      <td>225.0</td>\n",
       "      <td>225.0</td>\n",
       "      <td>14.0</td>\n",
       "      <td>25.0</td>\n",
       "      <td>191.0</td>\n",
       "      <td>90.0</td>\n",
       "      <td>18.0</td>\n",
       "      <td>39.0</td>\n",
       "    </tr>\n",
       "    <tr>\n",
       "      <th>1</th>\n",
       "      <td>0.0</td>\n",
       "      <td>0.0</td>\n",
       "      <td>4.0</td>\n",
       "      <td>1.0</td>\n",
       "      <td>95.0</td>\n",
       "      <td>95.0</td>\n",
       "      <td>26.0</td>\n",
       "      <td>40.0</td>\n",
       "      <td>51.0</td>\n",
       "      <td>233.0</td>\n",
       "      <td>345.0</td>\n",
       "      <td>783.0</td>\n",
       "    </tr>\n",
       "    <tr>\n",
       "      <th>2</th>\n",
       "      <td>0.0</td>\n",
       "      <td>0.0</td>\n",
       "      <td>4.0</td>\n",
       "      <td>1.0</td>\n",
       "      <td>10.0</td>\n",
       "      <td>10.0</td>\n",
       "      <td>16.0</td>\n",
       "      <td>32.0</td>\n",
       "      <td>42.0</td>\n",
       "      <td>206.0</td>\n",
       "      <td>66.0</td>\n",
       "      <td>142.0</td>\n",
       "    </tr>\n",
       "    <tr>\n",
       "      <th>3</th>\n",
       "      <td>0.0</td>\n",
       "      <td>0.0</td>\n",
       "      <td>4.0</td>\n",
       "      <td>1.0</td>\n",
       "      <td>108.0</td>\n",
       "      <td>108.0</td>\n",
       "      <td>52.0</td>\n",
       "      <td>88.0</td>\n",
       "      <td>119.0</td>\n",
       "      <td>114.0</td>\n",
       "      <td>624.0</td>\n",
       "      <td>1277.0</td>\n",
       "    </tr>\n",
       "    <tr>\n",
       "      <th>4</th>\n",
       "      <td>0.0</td>\n",
       "      <td>0.0</td>\n",
       "      <td>4.0</td>\n",
       "      <td>1.0</td>\n",
       "      <td>19.0</td>\n",
       "      <td>19.0</td>\n",
       "      <td>3.0</td>\n",
       "      <td>121.0</td>\n",
       "      <td>169.0</td>\n",
       "      <td>315.0</td>\n",
       "      <td>578.0</td>\n",
       "      <td>1197.0</td>\n",
       "    </tr>\n",
       "  </tbody>\n",
       "</table>\n",
       "</div>"
      ],
      "text/plain": [
       "   MONTH  STORECODE  DAY  QTY  VALUE  PRICE   GRP   SGRP  SSGRP    CMP   MBRD  \\\n",
       "0    0.0        0.0  4.0  1.0  225.0  225.0  14.0   25.0  191.0   90.0   18.0   \n",
       "1    0.0        0.0  4.0  1.0   95.0   95.0  26.0   40.0   51.0  233.0  345.0   \n",
       "2    0.0        0.0  4.0  1.0   10.0   10.0  16.0   32.0   42.0  206.0   66.0   \n",
       "3    0.0        0.0  4.0  1.0  108.0  108.0  52.0   88.0  119.0  114.0  624.0   \n",
       "4    0.0        0.0  4.0  1.0   19.0   19.0   3.0  121.0  169.0  315.0  578.0   \n",
       "\n",
       "      BRD  \n",
       "0    39.0  \n",
       "1   783.0  \n",
       "2   142.0  \n",
       "3  1277.0  \n",
       "4  1197.0  "
      ]
     },
     "execution_count": 72,
     "metadata": {},
     "output_type": "execute_result"
    }
   ],
   "source": [
    "df_final_data.head()"
   ]
  },
  {
   "cell_type": "code",
   "execution_count": 73,
   "metadata": {},
   "outputs": [
    {
     "data": {
      "text/plain": [
       "array([0., 2., 3., 4., 5., 6., 7., 8., 9., 1.])"
      ]
     },
     "execution_count": 73,
     "metadata": {},
     "output_type": "execute_result"
    }
   ],
   "source": [
    "df_final_data['STORECODE'].unique()"
   ]
  },
  {
   "cell_type": "code",
   "execution_count": 74,
   "metadata": {},
   "outputs": [
    {
     "name": "stdout",
     "output_type": "stream",
     "text": [
      "<class 'pandas.core.frame.DataFrame'>\n",
      "RangeIndex: 36365 entries, 0 to 36364\n",
      "Data columns (total 12 columns):\n",
      " #   Column     Non-Null Count  Dtype  \n",
      "---  ------     --------------  -----  \n",
      " 0   MONTH      36365 non-null  float64\n",
      " 1   STORECODE  36365 non-null  float64\n",
      " 2   DAY        36365 non-null  float64\n",
      " 3   QTY        36365 non-null  float64\n",
      " 4   VALUE      36365 non-null  float64\n",
      " 5   PRICE      36365 non-null  float64\n",
      " 6   GRP        36365 non-null  float64\n",
      " 7   SGRP       36365 non-null  float64\n",
      " 8   SSGRP      36365 non-null  float64\n",
      " 9   CMP        36365 non-null  float64\n",
      " 10  MBRD       36365 non-null  float64\n",
      " 11  BRD        36365 non-null  float64\n",
      "dtypes: float64(12)\n",
      "memory usage: 3.3 MB\n"
     ]
    }
   ],
   "source": [
    "df_final_data.info()"
   ]
  },
  {
   "cell_type": "code",
   "execution_count": 75,
   "metadata": {},
   "outputs": [],
   "source": [
    "df_final_data['MONTH'] = df_final_data['MONTH'].astype(np.int64)\n",
    "df_final_data['STORECODE'] = df_final_data['STORECODE'].astype(np.int64)\n",
    "df_final_data['DAY'] = df_final_data['DAY'].astype(np.int64)\n",
    "df_final_data['GRP'] = df_final_data['GRP'].astype(np.int64)"
   ]
  },
  {
   "cell_type": "code",
   "execution_count": 76,
   "metadata": {},
   "outputs": [
    {
     "name": "stdout",
     "output_type": "stream",
     "text": [
      "<class 'pandas.core.frame.DataFrame'>\n",
      "RangeIndex: 36365 entries, 0 to 36364\n",
      "Data columns (total 12 columns):\n",
      " #   Column     Non-Null Count  Dtype  \n",
      "---  ------     --------------  -----  \n",
      " 0   MONTH      36365 non-null  int64  \n",
      " 1   STORECODE  36365 non-null  int64  \n",
      " 2   DAY        36365 non-null  int64  \n",
      " 3   QTY        36365 non-null  float64\n",
      " 4   VALUE      36365 non-null  float64\n",
      " 5   PRICE      36365 non-null  float64\n",
      " 6   GRP        36365 non-null  int64  \n",
      " 7   SGRP       36365 non-null  float64\n",
      " 8   SSGRP      36365 non-null  float64\n",
      " 9   CMP        36365 non-null  float64\n",
      " 10  MBRD       36365 non-null  float64\n",
      " 11  BRD        36365 non-null  float64\n",
      "dtypes: float64(8), int64(4)\n",
      "memory usage: 3.3 MB\n"
     ]
    }
   ],
   "source": [
    "df_final_data.info()"
   ]
  },
  {
   "cell_type": "code",
   "execution_count": 77,
   "metadata": {},
   "outputs": [
    {
     "data": {
      "text/html": [
       "<div>\n",
       "<style scoped>\n",
       "    .dataframe tbody tr th:only-of-type {\n",
       "        vertical-align: middle;\n",
       "    }\n",
       "\n",
       "    .dataframe tbody tr th {\n",
       "        vertical-align: top;\n",
       "    }\n",
       "\n",
       "    .dataframe thead th {\n",
       "        text-align: right;\n",
       "    }\n",
       "</style>\n",
       "<table border=\"1\" class=\"dataframe\">\n",
       "  <thead>\n",
       "    <tr style=\"text-align: right;\">\n",
       "      <th></th>\n",
       "      <th>MONTH</th>\n",
       "      <th>STORECODE</th>\n",
       "      <th>DAY</th>\n",
       "      <th>QTY</th>\n",
       "      <th>VALUE</th>\n",
       "      <th>PRICE</th>\n",
       "      <th>GRP</th>\n",
       "      <th>SGRP</th>\n",
       "      <th>SSGRP</th>\n",
       "      <th>CMP</th>\n",
       "      <th>MBRD</th>\n",
       "      <th>BRD</th>\n",
       "    </tr>\n",
       "  </thead>\n",
       "  <tbody>\n",
       "    <tr>\n",
       "      <th>0</th>\n",
       "      <td>0</td>\n",
       "      <td>0</td>\n",
       "      <td>4</td>\n",
       "      <td>1.0</td>\n",
       "      <td>225.0</td>\n",
       "      <td>225.0</td>\n",
       "      <td>14</td>\n",
       "      <td>25.0</td>\n",
       "      <td>191.0</td>\n",
       "      <td>90.0</td>\n",
       "      <td>18.0</td>\n",
       "      <td>39.0</td>\n",
       "    </tr>\n",
       "    <tr>\n",
       "      <th>1</th>\n",
       "      <td>0</td>\n",
       "      <td>0</td>\n",
       "      <td>4</td>\n",
       "      <td>1.0</td>\n",
       "      <td>95.0</td>\n",
       "      <td>95.0</td>\n",
       "      <td>26</td>\n",
       "      <td>40.0</td>\n",
       "      <td>51.0</td>\n",
       "      <td>233.0</td>\n",
       "      <td>345.0</td>\n",
       "      <td>783.0</td>\n",
       "    </tr>\n",
       "    <tr>\n",
       "      <th>2</th>\n",
       "      <td>0</td>\n",
       "      <td>0</td>\n",
       "      <td>4</td>\n",
       "      <td>1.0</td>\n",
       "      <td>10.0</td>\n",
       "      <td>10.0</td>\n",
       "      <td>16</td>\n",
       "      <td>32.0</td>\n",
       "      <td>42.0</td>\n",
       "      <td>206.0</td>\n",
       "      <td>66.0</td>\n",
       "      <td>142.0</td>\n",
       "    </tr>\n",
       "    <tr>\n",
       "      <th>3</th>\n",
       "      <td>0</td>\n",
       "      <td>0</td>\n",
       "      <td>4</td>\n",
       "      <td>1.0</td>\n",
       "      <td>108.0</td>\n",
       "      <td>108.0</td>\n",
       "      <td>52</td>\n",
       "      <td>88.0</td>\n",
       "      <td>119.0</td>\n",
       "      <td>114.0</td>\n",
       "      <td>624.0</td>\n",
       "      <td>1277.0</td>\n",
       "    </tr>\n",
       "    <tr>\n",
       "      <th>4</th>\n",
       "      <td>0</td>\n",
       "      <td>0</td>\n",
       "      <td>4</td>\n",
       "      <td>1.0</td>\n",
       "      <td>19.0</td>\n",
       "      <td>19.0</td>\n",
       "      <td>3</td>\n",
       "      <td>121.0</td>\n",
       "      <td>169.0</td>\n",
       "      <td>315.0</td>\n",
       "      <td>578.0</td>\n",
       "      <td>1197.0</td>\n",
       "    </tr>\n",
       "  </tbody>\n",
       "</table>\n",
       "</div>"
      ],
      "text/plain": [
       "   MONTH  STORECODE  DAY  QTY  VALUE  PRICE  GRP   SGRP  SSGRP    CMP   MBRD  \\\n",
       "0      0          0    4  1.0  225.0  225.0   14   25.0  191.0   90.0   18.0   \n",
       "1      0          0    4  1.0   95.0   95.0   26   40.0   51.0  233.0  345.0   \n",
       "2      0          0    4  1.0   10.0   10.0   16   32.0   42.0  206.0   66.0   \n",
       "3      0          0    4  1.0  108.0  108.0   52   88.0  119.0  114.0  624.0   \n",
       "4      0          0    4  1.0   19.0   19.0    3  121.0  169.0  315.0  578.0   \n",
       "\n",
       "      BRD  \n",
       "0    39.0  \n",
       "1   783.0  \n",
       "2   142.0  \n",
       "3  1277.0  \n",
       "4  1197.0  "
      ]
     },
     "execution_count": 77,
     "metadata": {},
     "output_type": "execute_result"
    }
   ],
   "source": [
    "df_final_data.head()"
   ]
  },
  {
   "cell_type": "code",
   "execution_count": 78,
   "metadata": {},
   "outputs": [
    {
     "data": {
      "text/plain": [
       "MONTH        0\n",
       "STORECODE    0\n",
       "DAY          0\n",
       "QTY          0\n",
       "VALUE        0\n",
       "PRICE        0\n",
       "GRP          0\n",
       "SGRP         0\n",
       "SSGRP        0\n",
       "CMP          0\n",
       "MBRD         0\n",
       "BRD          0\n",
       "dtype: int64"
      ]
     },
     "execution_count": 78,
     "metadata": {},
     "output_type": "execute_result"
    }
   ],
   "source": [
    "df_final_data.isnull().sum()"
   ]
  },
  {
   "cell_type": "markdown",
   "metadata": {},
   "source": [
    "All new rows have scuccessfully imputed"
   ]
  },
  {
   "cell_type": "markdown",
   "metadata": {},
   "source": [
    "## VI. Getting the Total for each entry in Validation Data"
   ]
  },
  {
   "cell_type": "markdown",
   "metadata": {},
   "source": [
    "### Using results from Type 1"
   ]
  },
  {
   "cell_type": "markdown",
   "metadata": {},
   "source": [
    "import validation data"
   ]
  },
  {
   "cell_type": "code",
   "execution_count": 79,
   "metadata": {},
   "outputs": [
    {
     "data": {
      "text/html": [
       "<div>\n",
       "<style scoped>\n",
       "    .dataframe tbody tr th:only-of-type {\n",
       "        vertical-align: middle;\n",
       "    }\n",
       "\n",
       "    .dataframe tbody tr th {\n",
       "        vertical-align: top;\n",
       "    }\n",
       "\n",
       "    .dataframe thead th {\n",
       "        text-align: right;\n",
       "    }\n",
       "</style>\n",
       "<table border=\"1\" class=\"dataframe\">\n",
       "  <thead>\n",
       "    <tr style=\"text-align: right;\">\n",
       "      <th></th>\n",
       "      <th>ID</th>\n",
       "      <th>STORECODE</th>\n",
       "      <th>MONTH</th>\n",
       "      <th>GRP</th>\n",
       "    </tr>\n",
       "  </thead>\n",
       "  <tbody>\n",
       "    <tr>\n",
       "      <th>0</th>\n",
       "      <td>1112535</td>\n",
       "      <td>N1</td>\n",
       "      <td>M1</td>\n",
       "      <td>AFTER SHAVE LOTIONS</td>\n",
       "    </tr>\n",
       "    <tr>\n",
       "      <th>1</th>\n",
       "      <td>1112539</td>\n",
       "      <td>N1</td>\n",
       "      <td>M1</td>\n",
       "      <td>AGARBATTI &amp; DHOOPBATTI</td>\n",
       "    </tr>\n",
       "    <tr>\n",
       "      <th>2</th>\n",
       "      <td>1112543</td>\n",
       "      <td>N1</td>\n",
       "      <td>M1</td>\n",
       "      <td>ALL AIR FRESHNERS(01/03)</td>\n",
       "    </tr>\n",
       "    <tr>\n",
       "      <th>3</th>\n",
       "      <td>1112547</td>\n",
       "      <td>N1</td>\n",
       "      <td>M1</td>\n",
       "      <td>ALL IODISED SALT</td>\n",
       "    </tr>\n",
       "    <tr>\n",
       "      <th>4</th>\n",
       "      <td>1112551</td>\n",
       "      <td>N1</td>\n",
       "      <td>M1</td>\n",
       "      <td>ANTACIDS</td>\n",
       "    </tr>\n",
       "  </tbody>\n",
       "</table>\n",
       "</div>"
      ],
      "text/plain": [
       "        ID STORECODE MONTH                       GRP\n",
       "0  1112535        N1    M1       AFTER SHAVE LOTIONS\n",
       "1  1112539        N1    M1    AGARBATTI & DHOOPBATTI\n",
       "2  1112543        N1    M1  ALL AIR FRESHNERS(01/03)\n",
       "3  1112547        N1    M1          ALL IODISED SALT\n",
       "4  1112551        N1    M1                  ANTACIDS"
      ]
     },
     "execution_count": 79,
     "metadata": {},
     "output_type": "execute_result"
    }
   ],
   "source": [
    "df_validation_2 = pd.read_csv(\"Hackathon_Validation_Data.csv\")\n",
    "df_validation_2.head()"
   ]
  },
  {
   "cell_type": "markdown",
   "metadata": {},
   "source": [
    "Final data to be used"
   ]
  },
  {
   "cell_type": "code",
   "execution_count": 80,
   "metadata": {},
   "outputs": [
    {
     "data": {
      "text/html": [
       "<div>\n",
       "<style scoped>\n",
       "    .dataframe tbody tr th:only-of-type {\n",
       "        vertical-align: middle;\n",
       "    }\n",
       "\n",
       "    .dataframe tbody tr th {\n",
       "        vertical-align: top;\n",
       "    }\n",
       "\n",
       "    .dataframe thead th {\n",
       "        text-align: right;\n",
       "    }\n",
       "</style>\n",
       "<table border=\"1\" class=\"dataframe\">\n",
       "  <thead>\n",
       "    <tr style=\"text-align: right;\">\n",
       "      <th></th>\n",
       "      <th>MONTH</th>\n",
       "      <th>STORECODE</th>\n",
       "      <th>DAY</th>\n",
       "      <th>QTY</th>\n",
       "      <th>VALUE</th>\n",
       "      <th>PRICE</th>\n",
       "      <th>GRP</th>\n",
       "      <th>SGRP</th>\n",
       "      <th>SSGRP</th>\n",
       "      <th>CMP</th>\n",
       "      <th>MBRD</th>\n",
       "      <th>BRD</th>\n",
       "    </tr>\n",
       "  </thead>\n",
       "  <tbody>\n",
       "    <tr>\n",
       "      <th>0</th>\n",
       "      <td>M1</td>\n",
       "      <td>N1</td>\n",
       "      <td>4</td>\n",
       "      <td>1.0</td>\n",
       "      <td>225.0</td>\n",
       "      <td>225.0</td>\n",
       "      <td>BUTTER MARGR  (4/94)</td>\n",
       "      <td>BUTTER</td>\n",
       "      <td>SALTED</td>\n",
       "      <td>G C M M F</td>\n",
       "      <td>AMUL</td>\n",
       "      <td>AMUL</td>\n",
       "    </tr>\n",
       "    <tr>\n",
       "      <th>1</th>\n",
       "      <td>M1</td>\n",
       "      <td>N1</td>\n",
       "      <td>4</td>\n",
       "      <td>1.0</td>\n",
       "      <td>95.0</td>\n",
       "      <td>95.0</td>\n",
       "      <td>CONFECTIONERY - ECLAIRS</td>\n",
       "      <td>CONFECTIONERY - ECLAIRS</td>\n",
       "      <td>CONFECTIONERY - ECLAIRS</td>\n",
       "      <td>PARLE PRODS</td>\n",
       "      <td>MELODY</td>\n",
       "      <td>MELODY CHOCOLATY</td>\n",
       "    </tr>\n",
       "    <tr>\n",
       "      <th>2</th>\n",
       "      <td>M1</td>\n",
       "      <td>N1</td>\n",
       "      <td>4</td>\n",
       "      <td>1.0</td>\n",
       "      <td>10.0</td>\n",
       "      <td>10.0</td>\n",
       "      <td>CHOCOLATE</td>\n",
       "      <td>CHOCOLATE PANNED</td>\n",
       "      <td>CHOCOLATE PANNED</td>\n",
       "      <td>MONDELEZ INTERNATIONAL</td>\n",
       "      <td>CADBURY SHOTS</td>\n",
       "      <td>CADBURY SHOTS</td>\n",
       "    </tr>\n",
       "    <tr>\n",
       "      <th>3</th>\n",
       "      <td>M1</td>\n",
       "      <td>N1</td>\n",
       "      <td>4</td>\n",
       "      <td>1.0</td>\n",
       "      <td>108.0</td>\n",
       "      <td>108.0</td>\n",
       "      <td>PACKAGED TEA</td>\n",
       "      <td>MAIN PACKS</td>\n",
       "      <td>MAIN PACKS</td>\n",
       "      <td>GUJ TEA PROCESSORS</td>\n",
       "      <td>WAGH BAKRI</td>\n",
       "      <td>WAGH BAKRI INSTANT</td>\n",
       "    </tr>\n",
       "    <tr>\n",
       "      <th>4</th>\n",
       "      <td>M1</td>\n",
       "      <td>N1</td>\n",
       "      <td>4</td>\n",
       "      <td>1.0</td>\n",
       "      <td>19.0</td>\n",
       "      <td>19.0</td>\n",
       "      <td>ALL IODISED SALT</td>\n",
       "      <td>POWDERED SALT</td>\n",
       "      <td>POWDERED SALT</td>\n",
       "      <td>TATA CHEM</td>\n",
       "      <td>TATA</td>\n",
       "      <td>TATA SALT</td>\n",
       "    </tr>\n",
       "  </tbody>\n",
       "</table>\n",
       "</div>"
      ],
      "text/plain": [
       "  MONTH STORECODE DAY  QTY  VALUE  PRICE                      GRP  \\\n",
       "0    M1        N1   4  1.0  225.0  225.0     BUTTER MARGR  (4/94)   \n",
       "1    M1        N1   4  1.0   95.0   95.0  CONFECTIONERY - ECLAIRS   \n",
       "2    M1        N1   4  1.0   10.0   10.0                CHOCOLATE   \n",
       "3    M1        N1   4  1.0  108.0  108.0             PACKAGED TEA   \n",
       "4    M1        N1   4  1.0   19.0   19.0         ALL IODISED SALT   \n",
       "\n",
       "                      SGRP                    SSGRP                     CMP  \\\n",
       "0                   BUTTER                   SALTED               G C M M F   \n",
       "1  CONFECTIONERY - ECLAIRS  CONFECTIONERY - ECLAIRS             PARLE PRODS   \n",
       "2         CHOCOLATE PANNED         CHOCOLATE PANNED  MONDELEZ INTERNATIONAL   \n",
       "3               MAIN PACKS               MAIN PACKS      GUJ TEA PROCESSORS   \n",
       "4            POWDERED SALT            POWDERED SALT               TATA CHEM   \n",
       "\n",
       "            MBRD                 BRD  \n",
       "0           AMUL                AMUL  \n",
       "1         MELODY    MELODY CHOCOLATY  \n",
       "2  CADBURY SHOTS       CADBURY SHOTS  \n",
       "3     WAGH BAKRI  WAGH BAKRI INSTANT  \n",
       "4           TATA           TATA SALT  "
      ]
     },
     "execution_count": 80,
     "metadata": {},
     "output_type": "execute_result"
    }
   ],
   "source": [
    "df_working_data.head()"
   ]
  },
  {
   "cell_type": "markdown",
   "metadata": {},
   "source": [
    "Function to get the \"Total Value\" from the updated working data based on each row in validation data."
   ]
  },
  {
   "cell_type": "code",
   "execution_count": 81,
   "metadata": {},
   "outputs": [],
   "source": [
    "def get_total_data_2(row):\n",
    "    total = df_working_data.loc[(df_working_data['MONTH'] == row['MONTH']) &\n",
    "                                   (df_working_data['STORECODE'] == row['STORECODE']) &\n",
    "                                  (df_working_data['GRP'] == row['GRP'] )]['VALUE'].sum()\n",
    "    return total"
   ]
  },
  {
   "cell_type": "markdown",
   "metadata": {},
   "source": [
    "Applying the above function on the validation table, and inserting the data in a new column Value"
   ]
  },
  {
   "cell_type": "code",
   "execution_count": 82,
   "metadata": {},
   "outputs": [],
   "source": [
    "df_validation_2['TOTALVALUE'] = df_validation_2.apply(get_total_data_2, axis=1)"
   ]
  },
  {
   "cell_type": "code",
   "execution_count": 83,
   "metadata": {},
   "outputs": [
    {
     "data": {
      "text/html": [
       "<div>\n",
       "<style scoped>\n",
       "    .dataframe tbody tr th:only-of-type {\n",
       "        vertical-align: middle;\n",
       "    }\n",
       "\n",
       "    .dataframe tbody tr th {\n",
       "        vertical-align: top;\n",
       "    }\n",
       "\n",
       "    .dataframe thead th {\n",
       "        text-align: right;\n",
       "    }\n",
       "</style>\n",
       "<table border=\"1\" class=\"dataframe\">\n",
       "  <thead>\n",
       "    <tr style=\"text-align: right;\">\n",
       "      <th></th>\n",
       "      <th>ID</th>\n",
       "      <th>STORECODE</th>\n",
       "      <th>MONTH</th>\n",
       "      <th>GRP</th>\n",
       "      <th>TOTALVALUE</th>\n",
       "    </tr>\n",
       "  </thead>\n",
       "  <tbody>\n",
       "    <tr>\n",
       "      <th>0</th>\n",
       "      <td>1112535</td>\n",
       "      <td>N1</td>\n",
       "      <td>M1</td>\n",
       "      <td>AFTER SHAVE LOTIONS</td>\n",
       "      <td>0.0</td>\n",
       "    </tr>\n",
       "    <tr>\n",
       "      <th>1</th>\n",
       "      <td>1112539</td>\n",
       "      <td>N1</td>\n",
       "      <td>M1</td>\n",
       "      <td>AGARBATTI &amp; DHOOPBATTI</td>\n",
       "      <td>200.0</td>\n",
       "    </tr>\n",
       "    <tr>\n",
       "      <th>2</th>\n",
       "      <td>1112543</td>\n",
       "      <td>N1</td>\n",
       "      <td>M1</td>\n",
       "      <td>ALL AIR FRESHNERS(01/03)</td>\n",
       "      <td>164.0</td>\n",
       "    </tr>\n",
       "    <tr>\n",
       "      <th>3</th>\n",
       "      <td>1112547</td>\n",
       "      <td>N1</td>\n",
       "      <td>M1</td>\n",
       "      <td>ALL IODISED SALT</td>\n",
       "      <td>10984.0</td>\n",
       "    </tr>\n",
       "    <tr>\n",
       "      <th>4</th>\n",
       "      <td>1112551</td>\n",
       "      <td>N1</td>\n",
       "      <td>M1</td>\n",
       "      <td>ANTACIDS</td>\n",
       "      <td>318.8</td>\n",
       "    </tr>\n",
       "  </tbody>\n",
       "</table>\n",
       "</div>"
      ],
      "text/plain": [
       "        ID STORECODE MONTH                       GRP  TOTALVALUE\n",
       "0  1112535        N1    M1       AFTER SHAVE LOTIONS         0.0\n",
       "1  1112539        N1    M1    AGARBATTI & DHOOPBATTI       200.0\n",
       "2  1112543        N1    M1  ALL AIR FRESHNERS(01/03)       164.0\n",
       "3  1112547        N1    M1          ALL IODISED SALT     10984.0\n",
       "4  1112551        N1    M1                  ANTACIDS       318.8"
      ]
     },
     "execution_count": 83,
     "metadata": {},
     "output_type": "execute_result"
    }
   ],
   "source": [
    "df_validation_2.head()"
   ]
  },
  {
   "cell_type": "markdown",
   "metadata": {},
   "source": [
    "Now, we have the value column as expected, we just need to get rid of \"STORECODE\", \"MONTH\", \"GRP\" columns."
   ]
  },
  {
   "cell_type": "code",
   "execution_count": 84,
   "metadata": {},
   "outputs": [],
   "source": [
    "df_validation_2.drop(['STORECODE','MONTH','GRP'],axis=1, inplace=True)"
   ]
  },
  {
   "cell_type": "code",
   "execution_count": 85,
   "metadata": {},
   "outputs": [
    {
     "data": {
      "text/html": [
       "<div>\n",
       "<style scoped>\n",
       "    .dataframe tbody tr th:only-of-type {\n",
       "        vertical-align: middle;\n",
       "    }\n",
       "\n",
       "    .dataframe tbody tr th {\n",
       "        vertical-align: top;\n",
       "    }\n",
       "\n",
       "    .dataframe thead th {\n",
       "        text-align: right;\n",
       "    }\n",
       "</style>\n",
       "<table border=\"1\" class=\"dataframe\">\n",
       "  <thead>\n",
       "    <tr style=\"text-align: right;\">\n",
       "      <th></th>\n",
       "      <th>ID</th>\n",
       "      <th>TOTALVALUE</th>\n",
       "    </tr>\n",
       "  </thead>\n",
       "  <tbody>\n",
       "    <tr>\n",
       "      <th>0</th>\n",
       "      <td>1112535</td>\n",
       "      <td>0.0</td>\n",
       "    </tr>\n",
       "    <tr>\n",
       "      <th>1</th>\n",
       "      <td>1112539</td>\n",
       "      <td>200.0</td>\n",
       "    </tr>\n",
       "    <tr>\n",
       "      <th>2</th>\n",
       "      <td>1112543</td>\n",
       "      <td>164.0</td>\n",
       "    </tr>\n",
       "    <tr>\n",
       "      <th>3</th>\n",
       "      <td>1112547</td>\n",
       "      <td>10984.0</td>\n",
       "    </tr>\n",
       "    <tr>\n",
       "      <th>4</th>\n",
       "      <td>1112551</td>\n",
       "      <td>318.8</td>\n",
       "    </tr>\n",
       "  </tbody>\n",
       "</table>\n",
       "</div>"
      ],
      "text/plain": [
       "        ID  TOTALVALUE\n",
       "0  1112535         0.0\n",
       "1  1112539       200.0\n",
       "2  1112543       164.0\n",
       "3  1112547     10984.0\n",
       "4  1112551       318.8"
      ]
     },
     "execution_count": 85,
     "metadata": {},
     "output_type": "execute_result"
    }
   ],
   "source": [
    "df_validation_2.head()"
   ]
  },
  {
   "cell_type": "code",
   "execution_count": 87,
   "metadata": {},
   "outputs": [],
   "source": [
    "df_validation_2.to_csv(\"Final_Submission_Data.csv\", index=False)"
   ]
  },
  {
   "cell_type": "markdown",
   "metadata": {},
   "source": [
    "In this assessment I have considered only 10% of the days in a month to be busiest, we can change the approach and consider based on the number of transactions, that way we can have more number of rows.\n",
    "<br> Also in case of Missing Date I have considered the mean number of transactions for the month, we can alternatively consider the number of transaction on the previous or next day or the transaction 7 days back ( i.e. Same day the previous week"
   ]
  },
  {
   "cell_type": "markdown",
   "metadata": {},
   "source": [
    "## Using results from Type 2"
   ]
  },
  {
   "cell_type": "code",
   "execution_count": 124,
   "metadata": {},
   "outputs": [
    {
     "data": {
      "text/html": [
       "<div>\n",
       "<style scoped>\n",
       "    .dataframe tbody tr th:only-of-type {\n",
       "        vertical-align: middle;\n",
       "    }\n",
       "\n",
       "    .dataframe tbody tr th {\n",
       "        vertical-align: top;\n",
       "    }\n",
       "\n",
       "    .dataframe thead th {\n",
       "        text-align: right;\n",
       "    }\n",
       "</style>\n",
       "<table border=\"1\" class=\"dataframe\">\n",
       "  <thead>\n",
       "    <tr style=\"text-align: right;\">\n",
       "      <th></th>\n",
       "      <th>ID</th>\n",
       "      <th>STORECODE</th>\n",
       "      <th>MONTH</th>\n",
       "      <th>GRP</th>\n",
       "    </tr>\n",
       "  </thead>\n",
       "  <tbody>\n",
       "    <tr>\n",
       "      <th>0</th>\n",
       "      <td>1112535</td>\n",
       "      <td>N1</td>\n",
       "      <td>M1</td>\n",
       "      <td>AFTER SHAVE LOTIONS</td>\n",
       "    </tr>\n",
       "    <tr>\n",
       "      <th>1</th>\n",
       "      <td>1112539</td>\n",
       "      <td>N1</td>\n",
       "      <td>M1</td>\n",
       "      <td>AGARBATTI &amp; DHOOPBATTI</td>\n",
       "    </tr>\n",
       "    <tr>\n",
       "      <th>2</th>\n",
       "      <td>1112543</td>\n",
       "      <td>N1</td>\n",
       "      <td>M1</td>\n",
       "      <td>ALL AIR FRESHNERS(01/03)</td>\n",
       "    </tr>\n",
       "    <tr>\n",
       "      <th>3</th>\n",
       "      <td>1112547</td>\n",
       "      <td>N1</td>\n",
       "      <td>M1</td>\n",
       "      <td>ALL IODISED SALT</td>\n",
       "    </tr>\n",
       "    <tr>\n",
       "      <th>4</th>\n",
       "      <td>1112551</td>\n",
       "      <td>N1</td>\n",
       "      <td>M1</td>\n",
       "      <td>ANTACIDS</td>\n",
       "    </tr>\n",
       "  </tbody>\n",
       "</table>\n",
       "</div>"
      ],
      "text/plain": [
       "        ID STORECODE MONTH                       GRP\n",
       "0  1112535        N1    M1       AFTER SHAVE LOTIONS\n",
       "1  1112539        N1    M1    AGARBATTI & DHOOPBATTI\n",
       "2  1112543        N1    M1  ALL AIR FRESHNERS(01/03)\n",
       "3  1112547        N1    M1          ALL IODISED SALT\n",
       "4  1112551        N1    M1                  ANTACIDS"
      ]
     },
     "execution_count": 124,
     "metadata": {},
     "output_type": "execute_result"
    }
   ],
   "source": [
    "df_validation = pd.read_csv(\"Hackathon_Validation_Data.csv\")\n",
    "df_validation.head()"
   ]
  },
  {
   "cell_type": "markdown",
   "metadata": {},
   "source": [
    "Apply encoding to the data, as our final data set is in encoded format"
   ]
  },
  {
   "cell_type": "code",
   "execution_count": 125,
   "metadata": {},
   "outputs": [],
   "source": [
    "df_validation['STORECODE'] = encoder.fit_transform(df_validation['STORECODE'])\n",
    "df_validation['MONTH'] = encoder.fit_transform(df_validation['MONTH'])\n",
    "df_validation['GRP'] = encoder.fit_transform(df_validation['GRP'])"
   ]
  },
  {
   "cell_type": "code",
   "execution_count": 126,
   "metadata": {},
   "outputs": [
    {
     "data": {
      "text/html": [
       "<div>\n",
       "<style scoped>\n",
       "    .dataframe tbody tr th:only-of-type {\n",
       "        vertical-align: middle;\n",
       "    }\n",
       "\n",
       "    .dataframe tbody tr th {\n",
       "        vertical-align: top;\n",
       "    }\n",
       "\n",
       "    .dataframe thead th {\n",
       "        text-align: right;\n",
       "    }\n",
       "</style>\n",
       "<table border=\"1\" class=\"dataframe\">\n",
       "  <thead>\n",
       "    <tr style=\"text-align: right;\">\n",
       "      <th></th>\n",
       "      <th>ID</th>\n",
       "      <th>STORECODE</th>\n",
       "      <th>MONTH</th>\n",
       "      <th>GRP</th>\n",
       "    </tr>\n",
       "  </thead>\n",
       "  <tbody>\n",
       "    <tr>\n",
       "      <th>0</th>\n",
       "      <td>1112535</td>\n",
       "      <td>0</td>\n",
       "      <td>0</td>\n",
       "      <td>0</td>\n",
       "    </tr>\n",
       "    <tr>\n",
       "      <th>1</th>\n",
       "      <td>1112539</td>\n",
       "      <td>0</td>\n",
       "      <td>0</td>\n",
       "      <td>1</td>\n",
       "    </tr>\n",
       "    <tr>\n",
       "      <th>2</th>\n",
       "      <td>1112543</td>\n",
       "      <td>0</td>\n",
       "      <td>0</td>\n",
       "      <td>2</td>\n",
       "    </tr>\n",
       "    <tr>\n",
       "      <th>3</th>\n",
       "      <td>1112547</td>\n",
       "      <td>0</td>\n",
       "      <td>0</td>\n",
       "      <td>3</td>\n",
       "    </tr>\n",
       "    <tr>\n",
       "      <th>4</th>\n",
       "      <td>1112551</td>\n",
       "      <td>0</td>\n",
       "      <td>0</td>\n",
       "      <td>4</td>\n",
       "    </tr>\n",
       "  </tbody>\n",
       "</table>\n",
       "</div>"
      ],
      "text/plain": [
       "        ID  STORECODE  MONTH  GRP\n",
       "0  1112535          0      0    0\n",
       "1  1112539          0      0    1\n",
       "2  1112543          0      0    2\n",
       "3  1112547          0      0    3\n",
       "4  1112551          0      0    4"
      ]
     },
     "execution_count": 126,
     "metadata": {},
     "output_type": "execute_result"
    }
   ],
   "source": [
    "df_validation.head()"
   ]
  },
  {
   "cell_type": "markdown",
   "metadata": {},
   "source": [
    "Final data to be used"
   ]
  },
  {
   "cell_type": "code",
   "execution_count": 143,
   "metadata": {},
   "outputs": [
    {
     "data": {
      "text/html": [
       "<div>\n",
       "<style scoped>\n",
       "    .dataframe tbody tr th:only-of-type {\n",
       "        vertical-align: middle;\n",
       "    }\n",
       "\n",
       "    .dataframe tbody tr th {\n",
       "        vertical-align: top;\n",
       "    }\n",
       "\n",
       "    .dataframe thead th {\n",
       "        text-align: right;\n",
       "    }\n",
       "</style>\n",
       "<table border=\"1\" class=\"dataframe\">\n",
       "  <thead>\n",
       "    <tr style=\"text-align: right;\">\n",
       "      <th></th>\n",
       "      <th>MONTH</th>\n",
       "      <th>STORECODE</th>\n",
       "      <th>DAY</th>\n",
       "      <th>QTY</th>\n",
       "      <th>VALUE</th>\n",
       "      <th>PRICE</th>\n",
       "      <th>GRP</th>\n",
       "      <th>SGRP</th>\n",
       "      <th>SSGRP</th>\n",
       "      <th>CMP</th>\n",
       "      <th>MBRD</th>\n",
       "      <th>BRD</th>\n",
       "    </tr>\n",
       "  </thead>\n",
       "  <tbody>\n",
       "    <tr>\n",
       "      <th>0</th>\n",
       "      <td>0</td>\n",
       "      <td>0</td>\n",
       "      <td>4</td>\n",
       "      <td>1.0</td>\n",
       "      <td>225.0</td>\n",
       "      <td>225.0</td>\n",
       "      <td>14</td>\n",
       "      <td>25.0</td>\n",
       "      <td>191.0</td>\n",
       "      <td>90.0</td>\n",
       "      <td>18.0</td>\n",
       "      <td>39.0</td>\n",
       "    </tr>\n",
       "    <tr>\n",
       "      <th>1</th>\n",
       "      <td>0</td>\n",
       "      <td>0</td>\n",
       "      <td>4</td>\n",
       "      <td>1.0</td>\n",
       "      <td>95.0</td>\n",
       "      <td>95.0</td>\n",
       "      <td>26</td>\n",
       "      <td>40.0</td>\n",
       "      <td>51.0</td>\n",
       "      <td>233.0</td>\n",
       "      <td>345.0</td>\n",
       "      <td>783.0</td>\n",
       "    </tr>\n",
       "    <tr>\n",
       "      <th>2</th>\n",
       "      <td>0</td>\n",
       "      <td>0</td>\n",
       "      <td>4</td>\n",
       "      <td>1.0</td>\n",
       "      <td>10.0</td>\n",
       "      <td>10.0</td>\n",
       "      <td>16</td>\n",
       "      <td>32.0</td>\n",
       "      <td>42.0</td>\n",
       "      <td>206.0</td>\n",
       "      <td>66.0</td>\n",
       "      <td>142.0</td>\n",
       "    </tr>\n",
       "    <tr>\n",
       "      <th>3</th>\n",
       "      <td>0</td>\n",
       "      <td>0</td>\n",
       "      <td>4</td>\n",
       "      <td>1.0</td>\n",
       "      <td>108.0</td>\n",
       "      <td>108.0</td>\n",
       "      <td>52</td>\n",
       "      <td>88.0</td>\n",
       "      <td>119.0</td>\n",
       "      <td>114.0</td>\n",
       "      <td>624.0</td>\n",
       "      <td>1277.0</td>\n",
       "    </tr>\n",
       "    <tr>\n",
       "      <th>4</th>\n",
       "      <td>0</td>\n",
       "      <td>0</td>\n",
       "      <td>4</td>\n",
       "      <td>1.0</td>\n",
       "      <td>19.0</td>\n",
       "      <td>19.0</td>\n",
       "      <td>3</td>\n",
       "      <td>121.0</td>\n",
       "      <td>169.0</td>\n",
       "      <td>315.0</td>\n",
       "      <td>578.0</td>\n",
       "      <td>1197.0</td>\n",
       "    </tr>\n",
       "  </tbody>\n",
       "</table>\n",
       "</div>"
      ],
      "text/plain": [
       "   MONTH  STORECODE  DAY  QTY  VALUE  PRICE  GRP   SGRP  SSGRP    CMP   MBRD  \\\n",
       "0      0          0    4  1.0  225.0  225.0   14   25.0  191.0   90.0   18.0   \n",
       "1      0          0    4  1.0   95.0   95.0   26   40.0   51.0  233.0  345.0   \n",
       "2      0          0    4  1.0   10.0   10.0   16   32.0   42.0  206.0   66.0   \n",
       "3      0          0    4  1.0  108.0  108.0   52   88.0  119.0  114.0  624.0   \n",
       "4      0          0    4  1.0   19.0   19.0    3  121.0  169.0  315.0  578.0   \n",
       "\n",
       "      BRD  \n",
       "0    39.0  \n",
       "1   783.0  \n",
       "2   142.0  \n",
       "3  1277.0  \n",
       "4  1197.0  "
      ]
     },
     "execution_count": 143,
     "metadata": {},
     "output_type": "execute_result"
    }
   ],
   "source": [
    "df_final_data.head()"
   ]
  },
  {
   "cell_type": "markdown",
   "metadata": {},
   "source": [
    "Function to get the \"Total Value\" from the updated working data based on each row in validation data."
   ]
  },
  {
   "cell_type": "code",
   "execution_count": 137,
   "metadata": {},
   "outputs": [],
   "source": [
    "def get_total_data(row):\n",
    "    total = df_final_data.loc[(df_final_data['MONTH'] == row['MONTH']) &\n",
    "                                   (df_final_data['STORECODE'] == row['STORECODE']) &\n",
    "                                  (df_final_data['GRP'] == row['GRP'] )]['VALUE'].sum()\n",
    "    return total"
   ]
  },
  {
   "cell_type": "code",
   "execution_count": 138,
   "metadata": {},
   "outputs": [],
   "source": [
    "df_validation['TOTALVALUE'] = df_validation.apply(get_total_data, axis=1)"
   ]
  },
  {
   "cell_type": "code",
   "execution_count": 139,
   "metadata": {},
   "outputs": [
    {
     "data": {
      "text/html": [
       "<div>\n",
       "<style scoped>\n",
       "    .dataframe tbody tr th:only-of-type {\n",
       "        vertical-align: middle;\n",
       "    }\n",
       "\n",
       "    .dataframe tbody tr th {\n",
       "        vertical-align: top;\n",
       "    }\n",
       "\n",
       "    .dataframe thead th {\n",
       "        text-align: right;\n",
       "    }\n",
       "</style>\n",
       "<table border=\"1\" class=\"dataframe\">\n",
       "  <thead>\n",
       "    <tr style=\"text-align: right;\">\n",
       "      <th></th>\n",
       "      <th>ID</th>\n",
       "      <th>STORECODE</th>\n",
       "      <th>MONTH</th>\n",
       "      <th>GRP</th>\n",
       "      <th>TOTALVALUE</th>\n",
       "    </tr>\n",
       "  </thead>\n",
       "  <tbody>\n",
       "    <tr>\n",
       "      <th>0</th>\n",
       "      <td>1112535</td>\n",
       "      <td>0</td>\n",
       "      <td>0</td>\n",
       "      <td>0</td>\n",
       "      <td>0.0</td>\n",
       "    </tr>\n",
       "    <tr>\n",
       "      <th>1</th>\n",
       "      <td>1112539</td>\n",
       "      <td>0</td>\n",
       "      <td>0</td>\n",
       "      <td>1</td>\n",
       "      <td>70.0</td>\n",
       "    </tr>\n",
       "    <tr>\n",
       "      <th>2</th>\n",
       "      <td>1112543</td>\n",
       "      <td>0</td>\n",
       "      <td>0</td>\n",
       "      <td>2</td>\n",
       "      <td>164.0</td>\n",
       "    </tr>\n",
       "    <tr>\n",
       "      <th>3</th>\n",
       "      <td>1112547</td>\n",
       "      <td>0</td>\n",
       "      <td>0</td>\n",
       "      <td>3</td>\n",
       "      <td>545.0</td>\n",
       "    </tr>\n",
       "    <tr>\n",
       "      <th>4</th>\n",
       "      <td>1112551</td>\n",
       "      <td>0</td>\n",
       "      <td>0</td>\n",
       "      <td>4</td>\n",
       "      <td>70.8</td>\n",
       "    </tr>\n",
       "  </tbody>\n",
       "</table>\n",
       "</div>"
      ],
      "text/plain": [
       "        ID  STORECODE  MONTH  GRP  TOTALVALUE\n",
       "0  1112535          0      0    0         0.0\n",
       "1  1112539          0      0    1        70.0\n",
       "2  1112543          0      0    2       164.0\n",
       "3  1112547          0      0    3       545.0\n",
       "4  1112551          0      0    4        70.8"
      ]
     },
     "execution_count": 139,
     "metadata": {},
     "output_type": "execute_result"
    }
   ],
   "source": [
    "df_validation.head()"
   ]
  },
  {
   "cell_type": "code",
   "execution_count": 140,
   "metadata": {},
   "outputs": [],
   "source": [
    "df_validation.drop(['STORECODE','MONTH','GRP'],axis=1, inplace=True)"
   ]
  },
  {
   "cell_type": "code",
   "execution_count": 141,
   "metadata": {},
   "outputs": [
    {
     "data": {
      "text/html": [
       "<div>\n",
       "<style scoped>\n",
       "    .dataframe tbody tr th:only-of-type {\n",
       "        vertical-align: middle;\n",
       "    }\n",
       "\n",
       "    .dataframe tbody tr th {\n",
       "        vertical-align: top;\n",
       "    }\n",
       "\n",
       "    .dataframe thead th {\n",
       "        text-align: right;\n",
       "    }\n",
       "</style>\n",
       "<table border=\"1\" class=\"dataframe\">\n",
       "  <thead>\n",
       "    <tr style=\"text-align: right;\">\n",
       "      <th></th>\n",
       "      <th>ID</th>\n",
       "      <th>TOTALVALUE</th>\n",
       "    </tr>\n",
       "  </thead>\n",
       "  <tbody>\n",
       "    <tr>\n",
       "      <th>0</th>\n",
       "      <td>1112535</td>\n",
       "      <td>0.0</td>\n",
       "    </tr>\n",
       "    <tr>\n",
       "      <th>1</th>\n",
       "      <td>1112539</td>\n",
       "      <td>70.0</td>\n",
       "    </tr>\n",
       "    <tr>\n",
       "      <th>2</th>\n",
       "      <td>1112543</td>\n",
       "      <td>164.0</td>\n",
       "    </tr>\n",
       "    <tr>\n",
       "      <th>3</th>\n",
       "      <td>1112547</td>\n",
       "      <td>545.0</td>\n",
       "    </tr>\n",
       "    <tr>\n",
       "      <th>4</th>\n",
       "      <td>1112551</td>\n",
       "      <td>70.8</td>\n",
       "    </tr>\n",
       "  </tbody>\n",
       "</table>\n",
       "</div>"
      ],
      "text/plain": [
       "        ID  TOTALVALUE\n",
       "0  1112535         0.0\n",
       "1  1112539        70.0\n",
       "2  1112543       164.0\n",
       "3  1112547       545.0\n",
       "4  1112551        70.8"
      ]
     },
     "execution_count": 141,
     "metadata": {},
     "output_type": "execute_result"
    }
   ],
   "source": [
    "df_validation.head()"
   ]
  },
  {
   "cell_type": "code",
   "execution_count": 142,
   "metadata": {},
   "outputs": [],
   "source": [
    "df_validation.to_csv(\"Final_Submission_Data_Imputer_Model.csv\", index=False)"
   ]
  },
  {
   "cell_type": "code",
   "execution_count": null,
   "metadata": {},
   "outputs": [],
   "source": []
  }
 ],
 "metadata": {
  "kernelspec": {
   "display_name": "Python 3",
   "language": "python",
   "name": "python3"
  },
  "language_info": {
   "codemirror_mode": {
    "name": "ipython",
    "version": 3
   },
   "file_extension": ".py",
   "mimetype": "text/x-python",
   "name": "python",
   "nbconvert_exporter": "python",
   "pygments_lexer": "ipython3",
   "version": "3.8.3"
  }
 },
 "nbformat": 4,
 "nbformat_minor": 4
}
